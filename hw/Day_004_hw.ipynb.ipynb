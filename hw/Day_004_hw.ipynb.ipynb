{
 "cells": [
  {
   "cell_type": "markdown",
   "metadata": {},
   "source": [
    "# Julia 數值系統介紹\n",
    "\n",
    "## Day 004 作業\n",
    "\n",
    "今天的內容提到整數及浮點數型別之最小值和最大值：\n",
    "\n",
    "|是否有正負號|型別|<div style=\"width:120px\">最大值</div>|<div style=\"width:120px\">最小值</div>|\n",
    "|---|---|---|---|\n",
    "|有|Int128, Int64, Int32, Int16, Int8|$2^{位元數-1}-1$|$-2^{位元數-1}$|\n",
    "|無|UInt128, UInt64, UInt32, UInt16, UInt8|$2^{位元數}-1$|$0$|\n",
    "\n",
    "|型別|最小值|最大值|\n",
    "|---|---|---|\n",
    "|`Float64`|-Inf|Inf|\n",
    "|`Float32`|-Inf 或 -Inf32|Inf 或 Inf32|\n",
    "|`Float16`|-Inf 或 -Inf16|Inf 或 Inf16|\n",
    "\n",
    "### 作業：範例程式示範了 Int64 及 Float64 的最小值和最大值，作業請列出並觀察其他整數及浮點數型別的最小值和最大值。"
   ]
  },
  {
   "cell_type": "markdown",
   "metadata": {},
   "source": [
    "呼叫 `typemin()` 及 `typemax()` 函式得到各型別的最小值和最大值。\n",
    "\n",
    "列出 Int128, Int32, Int16, Int8, UInt128, UInt64, UInt32, UInt16, UInt8 整數型別的最小值及最大值"
   ]
  },
  {
   "cell_type": "code",
   "execution_count": 1,
   "metadata": {
    "ExecuteTime": {
     "end_time": "2020-04-06T15:48:33.376000+08:00",
     "start_time": "2020-04-06T07:48:31.423Z"
    }
   },
   "outputs": [
    {
     "name": "stdout",
     "output_type": "stream",
     "text": [
      "typemin(Int128) = -170141183460469231731687303715884105728\n",
      "typemax(Int128) = 170141183460469231731687303715884105727\n",
      "typemin(Int32) = -2147483648\n",
      "typemax(Int32) = 2147483647\n",
      "typemin(Int16) = -32768\n",
      "typemax(Int16) = 32767\n",
      "typemin(Int8) = -128\n",
      "typemax(Int8) = 127\n",
      "typemin(UInt128) = 0x00000000000000000000000000000000\n",
      "typemax(UInt128) = 0xffffffffffffffffffffffffffffffff\n",
      "typemin(UInt64) = 0x0000000000000000\n",
      "typemax(UInt64) = 0xffffffffffffffff\n",
      "typemin(UInt32) = 0x00000000\n",
      "typemax(UInt32) = 0xffffffff\n",
      "typemin(UInt16) = 0x0000\n",
      "typemax(UInt16) = 0xffff\n",
      "typemin(UInt8) = 0x00\n",
      "typemax(UInt8) = 0xff\n"
     ]
    },
    {
     "data": {
      "text/plain": [
       "0xff"
      ]
     },
     "execution_count": 1,
     "metadata": {},
     "output_type": "execute_result"
    }
   ],
   "source": [
    "@show typemin(Int128)\n",
    "@show typemax(Int128)\n",
    "\n",
    "@show typemin(Int32)\n",
    "@show typemax(Int32)\n",
    "\n",
    "@show typemin(Int16)\n",
    "@show typemax(Int16)\n",
    "\n",
    "@show typemin(Int8)\n",
    "@show typemax(Int8)\n",
    "\n",
    "@show typemin(UInt128)\n",
    "@show typemax(UInt128)\n",
    "\n",
    "@show typemin(UInt64)\n",
    "@show typemax(UInt64)\n",
    "\n",
    "@show typemin(UInt32)\n",
    "@show typemax(UInt32)\n",
    "\n",
    "@show typemin(UInt16)\n",
    "@show typemax(UInt16)\n",
    "\n",
    "@show typemin(UInt8)\n",
    "@show typemax(UInt8)"
   ]
  },
  {
   "cell_type": "markdown",
   "metadata": {},
   "source": [
    "列出 Float32, Float16 浮點數型別的最小和最大值"
   ]
  },
  {
   "cell_type": "code",
   "execution_count": 2,
   "metadata": {
    "ExecuteTime": {
     "end_time": "2020-04-06T15:49:10.578000+08:00",
     "start_time": "2020-04-06T07:49:09.966Z"
    }
   },
   "outputs": [
    {
     "name": "stdout",
     "output_type": "stream",
     "text": [
      "typemin(Float32) = -Inf32\n",
      "typemax(Float32) = Inf32\n",
      "typemin(Float16) = -Inf16\n",
      "typemax(Float16) = Inf16\n"
     ]
    },
    {
     "data": {
      "text/plain": [
       "Inf16"
      ]
     },
     "execution_count": 2,
     "metadata": {},
     "output_type": "execute_result"
    }
   ],
   "source": [
    "@show typemin(Float32)\n",
    "@show typemax(Float32)\n",
    "\n",
    "@show typemin(Float16)\n",
    "@show typemax(Float16)"
   ]
  },
  {
   "cell_type": "code",
   "execution_count": null,
   "metadata": {},
   "outputs": [],
   "source": []
  }
 ],
 "metadata": {
  "@webio": {
   "lastCommId": null,
   "lastKernelId": null
  },
  "kernelspec": {
   "display_name": "Julia 1.3.1",
   "language": "julia",
   "name": "julia-1.3"
  },
  "language_info": {
   "file_extension": ".jl",
   "mimetype": "application/julia",
   "name": "julia",
   "version": "1.3.1"
  }
 },
 "nbformat": 4,
 "nbformat_minor": 4
}

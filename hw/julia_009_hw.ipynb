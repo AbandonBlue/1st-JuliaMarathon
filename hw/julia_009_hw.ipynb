{
 "cells": [
  {
   "cell_type": "markdown",
   "metadata": {},
   "source": [
    "# 陣列 (Array)\n",
    "\n",
    "## Day 009 作業：比較不同的內建排序演算法\n",
    "\n",
    "除了範例程式示範的 QuickSort 之外，Julia 也內建支援幾種不同的排序演算法：\n",
    "\n",
    "- InsertionSort\n",
    "- PartialQuickSort(k)\n",
    "- MergeSort\n",
    "\n",
    "1. 請閱讀官方文件及範例 [Sorting-Algorithms](https://docs.julialang.org/en/v1/base/sort/#Sorting-Algorithms-1)\n",
    "\n",
    "2. 撰寫程式隨機產生 100000 個 200 到 500 之間的數字來建立陣列，執行不同排序方法，來比較不同排序方法的速度。\n",
    "\n",
    "**[提示]** 排序執行所需時間可以用巨集 `@time` 或 `@elapsed` 來取得。"
   ]
  },
  {
   "cell_type": "code",
   "execution_count": 16,
   "metadata": {
    "ExecuteTime": {
     "end_time": "2020-04-10T16:32:11.049000+08:00",
     "start_time": "2020-04-10T08:32:11.044Z"
    }
   },
   "outputs": [
    {
     "data": {
      "text/plain": [
       "10000-element Array{Float64,1}:\n",
       " 347.9736919192326 \n",
       " 409.8684343472165 \n",
       " 251.4433916680151 \n",
       " 382.3896001411722 \n",
       " 235.03222066697685\n",
       " 264.72485982639125\n",
       " 453.84326250027317\n",
       " 359.07471837238984\n",
       " 409.16272732064215\n",
       " 422.39224916611647\n",
       " 467.92541820701115\n",
       " 367.1267973036512 \n",
       " 483.2443751187707 \n",
       "   ⋮               \n",
       " 478.5941939589272 \n",
       " 376.63631248952584\n",
       " 378.55382712854845\n",
       " 281.9098796411821 \n",
       " 259.11530284709545\n",
       " 277.47465301943004\n",
       " 284.55875744851625\n",
       " 251.0690737325272 \n",
       " 218.0794425505494 \n",
       " 472.73355834136805\n",
       " 227.16423790227432\n",
       " 275.31191864588584"
      ]
     },
     "execution_count": 16,
     "metadata": {},
     "output_type": "execute_result"
    }
   ],
   "source": [
    "# 產生 100000 個 200 到 500 之間的數字的陣列\n",
    "x = rand(10000) * 300 .+(200)"
   ]
  },
  {
   "cell_type": "markdown",
   "metadata": {},
   "source": [
    "## Insertion Sort"
   ]
  },
  {
   "cell_type": "code",
   "execution_count": 61,
   "metadata": {
    "ExecuteTime": {
     "end_time": "2020-04-10T16:35:14.048000+08:00",
     "start_time": "2020-04-10T08:35:14.007Z"
    },
    "scrolled": true
   },
   "outputs": [
    {
     "data": {
      "text/plain": [
       "0.0252103"
      ]
     },
     "execution_count": 61,
     "metadata": {},
     "output_type": "execute_result"
    }
   ],
   "source": [
    "# @time s = sort(x; alg=QuickSort)\n",
    "@elapsed sort(x; alg=InsertionSort)"
   ]
  },
  {
   "cell_type": "markdown",
   "metadata": {},
   "source": [
    "## Merge Sort"
   ]
  },
  {
   "cell_type": "code",
   "execution_count": 60,
   "metadata": {
    "ExecuteTime": {
     "end_time": "2020-04-10T16:35:10.870000+08:00",
     "start_time": "2020-04-10T08:35:10.865Z"
    }
   },
   "outputs": [
    {
     "data": {
      "text/plain": [
       "0.001152499"
      ]
     },
     "execution_count": 60,
     "metadata": {},
     "output_type": "execute_result"
    }
   ],
   "source": [
    "@elapsed sort(x; alg=MergeSort)"
   ]
  },
  {
   "cell_type": "markdown",
   "metadata": {},
   "source": [
    "## Partial Quick Sort"
   ]
  },
  {
   "cell_type": "code",
   "execution_count": 70,
   "metadata": {
    "ExecuteTime": {
     "end_time": "2020-04-10T16:35:58.774000+08:00",
     "start_time": "2020-04-10T08:35:58.769Z"
    }
   },
   "outputs": [
    {
     "data": {
      "text/plain": [
       "0.0012832"
      ]
     },
     "execution_count": 70,
     "metadata": {},
     "output_type": "execute_result"
    }
   ],
   "source": [
    "@elapsed sort(x; alg=PartialQuickSort(10000))"
   ]
  },
  {
   "cell_type": "markdown",
   "metadata": {},
   "source": [
    "## QuickSort"
   ]
  },
  {
   "cell_type": "code",
   "execution_count": 57,
   "metadata": {
    "ExecuteTime": {
     "end_time": "2020-04-10T16:35:06.268000+08:00",
     "start_time": "2020-04-10T08:35:06.263Z"
    }
   },
   "outputs": [
    {
     "data": {
      "text/plain": [
       "0.0009337"
      ]
     },
     "execution_count": 57,
     "metadata": {},
     "output_type": "execute_result"
    }
   ],
   "source": [
    "@elapsed sort(x; alg=QuickSort)"
   ]
  },
  {
   "cell_type": "markdown",
   "metadata": {},
   "source": [
    "## 請問哪一種排序方法的效能最好？"
   ]
  },
  {
   "cell_type": "markdown",
   "metadata": {},
   "source": [
    "## 只看一次其實不太合理，但正常來說 根據大O\n",
    "- #### Quick >= Partial Quick>= Merge > Insertion  "
   ]
  }
 ],
 "metadata": {
  "kernelspec": {
   "display_name": "Julia 1.3.1",
   "language": "julia",
   "name": "julia-1.3"
  },
  "language_info": {
   "file_extension": ".jl",
   "mimetype": "application/julia",
   "name": "julia",
   "version": "1.3.1"
  }
 },
 "nbformat": 4,
 "nbformat_minor": 4
}

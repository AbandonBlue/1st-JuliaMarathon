{
 "cells": [
  {
   "cell_type": "markdown",
   "metadata": {},
   "source": [
    "# 陣列 (Array)\n",
    "\n",
    "## Day 009 作業：比較不同的內建排序演算法\n",
    "\n",
    "除了範例程式示範的 QuickSort 之外，Julia 也內建支援幾種不同的排序演算法：\n",
    "\n",
    "- InsertionSort\n",
    "- PartialQuickSort(k)\n",
    "- MergeSort\n",
    "\n",
    "1. 請閱讀官方文件及範例 [Sorting-Algorithms](https://docs.julialang.org/en/v1/base/sort/#Sorting-Algorithms-1)\n",
    "\n",
    "2. 撰寫程式隨機產生 100000 個 200 到 500 之間的數字來建立陣列，執行不同排序方法，來比較不同排序方法的速度。\n",
    "\n",
    "**[提示]** 排序執行所需時間可以用巨集 `@time` 或 `@elapsed` 來取得。"
   ]
  },
  {
   "cell_type": "code",
   "execution_count": 1,
   "metadata": {
    "ExecuteTime": {
     "end_time": "2020-04-10T16:40:36.197000+08:00",
     "start_time": "2020-04-10T08:40:29.930Z"
    }
   },
   "outputs": [
    {
     "data": {
      "text/plain": [
       "100000-element Array{Float64,1}:\n",
       " 298.40678021018596\n",
       " 391.0392657945915 \n",
       " 357.5032813914614 \n",
       " 426.39276517253427\n",
       " 214.30879992798015\n",
       " 484.7311094183713 \n",
       " 493.125823533799  \n",
       " 239.82087963257746\n",
       " 482.09264763864036\n",
       " 337.38086506409627\n",
       " 333.18314103686475\n",
       " 269.63540424965123\n",
       " 366.54588759262015\n",
       "   ⋮               \n",
       " 465.52931793634593\n",
       " 459.52636723474313\n",
       " 238.91939049749465\n",
       " 319.09631134993015\n",
       " 287.52860708526515\n",
       " 472.3738391368621 \n",
       " 288.7973837965391 \n",
       " 409.4242708948545 \n",
       " 319.9887113176355 \n",
       " 332.6194221759986 \n",
       " 401.238819983717  \n",
       " 346.93104565159683"
      ]
     },
     "execution_count": 1,
     "metadata": {},
     "output_type": "execute_result"
    }
   ],
   "source": [
    "# 產生 100000 個 200 到 500 之間的數字的陣列\n",
    "x = rand(100000) * 300 .+(200)"
   ]
  },
  {
   "cell_type": "markdown",
   "metadata": {},
   "source": [
    "## Insertion Sort"
   ]
  },
  {
   "cell_type": "code",
   "execution_count": 2,
   "metadata": {
    "ExecuteTime": {
     "end_time": "2020-04-10T16:40:39.702000+08:00",
     "start_time": "2020-04-10T08:40:34.657Z"
    },
    "scrolled": true
   },
   "outputs": [
    {
     "data": {
      "text/plain": [
       "2.7758159"
      ]
     },
     "execution_count": 2,
     "metadata": {},
     "output_type": "execute_result"
    }
   ],
   "source": [
    "# @time s = sort(x; alg=QuickSort)\n",
    "@elapsed sort(x; alg=InsertionSort)"
   ]
  },
  {
   "cell_type": "markdown",
   "metadata": {},
   "source": [
    "## Merge Sort"
   ]
  },
  {
   "cell_type": "code",
   "execution_count": 3,
   "metadata": {
    "ExecuteTime": {
     "end_time": "2020-04-10T16:40:39.983000+08:00",
     "start_time": "2020-04-10T08:40:35.308Z"
    }
   },
   "outputs": [
    {
     "data": {
      "text/plain": [
       "0.2744479"
      ]
     },
     "execution_count": 3,
     "metadata": {},
     "output_type": "execute_result"
    }
   ],
   "source": [
    "@elapsed sort(x; alg=MergeSort)"
   ]
  },
  {
   "cell_type": "markdown",
   "metadata": {},
   "source": [
    "## Partial Quick Sort"
   ]
  },
  {
   "cell_type": "code",
   "execution_count": 4,
   "metadata": {
    "ExecuteTime": {
     "end_time": "2020-04-10T16:40:40.108000+08:00",
     "start_time": "2020-04-10T08:40:35.872Z"
    }
   },
   "outputs": [
    {
     "data": {
      "text/plain": [
       "0.1082456"
      ]
     },
     "execution_count": 4,
     "metadata": {},
     "output_type": "execute_result"
    }
   ],
   "source": [
    "@elapsed sort(x; alg=PartialQuickSort(10000))"
   ]
  },
  {
   "cell_type": "markdown",
   "metadata": {},
   "source": [
    "## QuickSort"
   ]
  },
  {
   "cell_type": "code",
   "execution_count": 5,
   "metadata": {
    "ExecuteTime": {
     "end_time": "2020-04-10T16:40:40.262000+08:00",
     "start_time": "2020-04-10T08:40:36.389Z"
    }
   },
   "outputs": [
    {
     "data": {
      "text/plain": [
       "0.149099"
      ]
     },
     "execution_count": 5,
     "metadata": {},
     "output_type": "execute_result"
    }
   ],
   "source": [
    "@elapsed sort(x; alg=QuickSort)"
   ]
  },
  {
   "cell_type": "markdown",
   "metadata": {},
   "source": [
    "## 請問哪一種排序方法的效能最好？"
   ]
  },
  {
   "cell_type": "markdown",
   "metadata": {},
   "source": [
    "## 只看一次其實不太合理，但正常來說 根據大O\n",
    "- #### Quick >= Partial Quick>= Merge > Insertion  "
   ]
  }
 ],
 "metadata": {
  "kernelspec": {
   "display_name": "Julia 1.3.1",
   "language": "julia",
   "name": "julia-1.3"
  },
  "language_info": {
   "file_extension": ".jl",
   "mimetype": "application/julia",
   "name": "julia",
   "version": "1.3.1"
  }
 },
 "nbformat": 4,
 "nbformat_minor": 4
}

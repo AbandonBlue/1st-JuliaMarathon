{
 "cells": [
  {
   "cell_type": "markdown",
   "metadata": {},
   "source": [
    "## Day 013 作業1：用 Julia 標準函式寫 Sigmoid Function\n",
    "\n",
    "在 Day 002 時我們曾用 LaTeX 撰寫機器學習常見的激活函式 Sigmoid\n",
    "\n",
    "$\\Large f(x)=\\frac{1}{1+e^{-x}}$\n",
    "\n",
    "作業 1 請使用內建函式 `exp()` 來撰寫 Sigmoid 函式，計算矩陣的 sigmoid 值。"
   ]
  },
  {
   "cell_type": "markdown",
   "metadata": {},
   "source": [
    "例如：數字 3 的 sigmoid 值。"
   ]
  },
  {
   "cell_type": "code",
   "execution_count": 1,
   "metadata": {
    "ExecuteTime": {
     "end_time": "2020-04-17T22:12:11.306000+08:00",
     "start_time": "2020-04-17T14:12:06.156Z"
    }
   },
   "outputs": [
    {
     "data": {
      "text/plain": [
       "0.9525741268224334"
      ]
     },
     "execution_count": 1,
     "metadata": {},
     "output_type": "execute_result"
    }
   ],
   "source": [
    "1 / (1 + exp(-3))"
   ]
  },
  {
   "cell_type": "markdown",
   "metadata": {},
   "source": [
    "宣告及建立矩陣"
   ]
  },
  {
   "cell_type": "code",
   "execution_count": 4,
   "metadata": {
    "ExecuteTime": {
     "end_time": "2020-04-17T22:14:25.190000+08:00",
     "start_time": "2020-04-17T14:14:25.187Z"
    }
   },
   "outputs": [
    {
     "data": {
      "text/plain": [
       "3×5 Array{Int64,2}:\n",
       " 0  10  3  4   6\n",
       " 4   2  4  5  10\n",
       " 8   5  3  5   9"
      ]
     },
     "execution_count": 4,
     "metadata": {},
     "output_type": "execute_result"
    }
   ],
   "source": [
    "A = Matrix([0 10 3 4 6; 4 2 4 5 10; 8 5 3 5 9])"
   ]
  },
  {
   "cell_type": "code",
   "execution_count": 5,
   "metadata": {
    "ExecuteTime": {
     "end_time": "2020-04-17T22:14:25.502000+08:00",
     "start_time": "2020-04-17T14:14:25.455Z"
    }
   },
   "outputs": [
    {
     "data": {
      "text/plain": [
       "3×5 Array{Float64,2}:\n",
       " 0.5       0.999955  0.952574  0.982014  0.997527\n",
       " 0.982014  0.880797  0.982014  0.993307  0.999955\n",
       " 0.999665  0.993307  0.952574  0.993307  0.999877"
      ]
     },
     "execution_count": 5,
     "metadata": {},
     "output_type": "execute_result"
    }
   ],
   "source": [
    "# 請在此撰寫計算 sigmoid\n",
    "\n",
    "function sigmoid(x)\n",
    "    return 1 / (1 + exp(-x))\n",
    "end\n",
    "\n",
    "map(sigmoid, A)"
   ]
  },
  {
   "cell_type": "markdown",
   "metadata": {},
   "source": [
    "## 作業2：線性代數基礎運算 Matrix Multiplication 及 Addition\n",
    "\n",
    "假設 A 是 $n\\times m$ 的矩陣，B 是 $m\\times p$ 的矩陣，則矩陣乘法的積 AB 是 $\\displaystyle n\\times p$ 的矩陣。\n",
    "\n",
    "作業2 請撰寫程式，隨機產生矩陣 $W$ 及 $X$，計算線性方程式 $WX+b$。\n",
    "\n",
    "【提示】點運算的介紹，可回顧 Day 005 內容及範例。"
   ]
  },
  {
   "cell_type": "code",
   "execution_count": 15,
   "metadata": {
    "ExecuteTime": {
     "end_time": "2020-04-17T22:25:40.073000+08:00",
     "start_time": "2020-04-17T14:25:40.041Z"
    }
   },
   "outputs": [],
   "source": [
    "using LinearAlgebra"
   ]
  },
  {
   "cell_type": "code",
   "execution_count": 8,
   "metadata": {
    "ExecuteTime": {
     "end_time": "2020-04-17T22:20:28.581000+08:00",
     "start_time": "2020-04-17T14:20:28.556Z"
    }
   },
   "outputs": [
    {
     "data": {
      "text/plain": [
       "3"
      ]
     },
     "execution_count": 8,
     "metadata": {},
     "output_type": "execute_result"
    }
   ],
   "source": [
    "# 給定 bias 變數值\n",
    "# 這邊給定的是純量，在矩陣加法中透過 broadcasting 進行加法\n",
    "b = 1\n",
    "\n",
    "n = 10\n",
    "m = 5\n",
    "p = 3"
   ]
  },
  {
   "cell_type": "code",
   "execution_count": 10,
   "metadata": {
    "ExecuteTime": {
     "end_time": "2020-04-17T22:21:40.283000+08:00",
     "start_time": "2020-04-17T14:21:40.280Z"
    }
   },
   "outputs": [
    {
     "data": {
      "text/plain": [
       "10×5 Array{Int64,2}:\n",
       " 56  42  10  92   2\n",
       " 46  76  74   3  54\n",
       "  2   7  49  21   3\n",
       " 35  47  16  25  52\n",
       " 76  70  98  75  34\n",
       " 61  60  41  65  32\n",
       " 80  76  29  76  94\n",
       " 46   4  99  24  39\n",
       " 32  16  72  85  55\n",
       " 68  21  70  51  71"
      ]
     },
     "execution_count": 10,
     "metadata": {},
     "output_type": "execute_result"
    }
   ],
   "source": [
    "# w = # 請在此撰寫程式\n",
    "\n",
    "W = Matrix(rand(0:100, n, m))"
   ]
  },
  {
   "cell_type": "code",
   "execution_count": 11,
   "metadata": {
    "ExecuteTime": {
     "end_time": "2020-04-17T22:21:59.310000+08:00",
     "start_time": "2020-04-17T14:21:59.306Z"
    }
   },
   "outputs": [
    {
     "data": {
      "text/plain": [
       "5×3 Array{Int64,2}:\n",
       " 9   4   2\n",
       " 4  10   4\n",
       " 0   1   3\n",
       " 1   5   4\n",
       " 7   0  10"
      ]
     },
     "execution_count": 11,
     "metadata": {},
     "output_type": "execute_result"
    }
   ],
   "source": [
    "# X = # 請在此撰寫程式\n",
    "X = Matrix(rand(0:10, m, p))"
   ]
  },
  {
   "cell_type": "code",
   "execution_count": 26,
   "metadata": {
    "ExecuteTime": {
     "end_time": "2020-04-17T22:30:53.264000+08:00",
     "start_time": "2020-04-17T14:30:53.261Z"
    }
   },
   "outputs": [
    {
     "data": {
      "text/plain": [
       "10×3 Array{Int64,2}:\n",
       "  778  1114   698\n",
       " 1099  1033  1170\n",
       "   88   232   293\n",
       "  892   751   926\n",
       " 1277  1477  1366\n",
       " 1078  1210  1065\n",
       " 1758  1489  1795\n",
       "  727   443   891\n",
       "  822   785  1234\n",
       " 1244   807  1344"
      ]
     },
     "execution_count": 26,
     "metadata": {},
     "output_type": "execute_result"
    }
   ],
   "source": [
    "W*X"
   ]
  },
  {
   "cell_type": "code",
   "execution_count": 25,
   "metadata": {
    "ExecuteTime": {
     "end_time": "2020-04-17T22:30:44.453000+08:00",
     "start_time": "2020-04-17T14:30:44.365Z"
    }
   },
   "outputs": [
    {
     "data": {
      "text/plain": [
       "10×3 Array{Int64,2}:\n",
       "  779  1115   699\n",
       " 1100  1034  1171\n",
       "   89   233   294\n",
       "  893   752   927\n",
       " 1278  1478  1367\n",
       " 1079  1211  1066\n",
       " 1759  1490  1796\n",
       "  728   444   892\n",
       "  823   786  1235\n",
       " 1245   808  1345"
      ]
     },
     "execution_count": 25,
     "metadata": {},
     "output_type": "execute_result"
    }
   ],
   "source": [
    "# 請在此撰寫計算線性方程式\n",
    "\n",
    "broadcast(+, W*X, b)"
   ]
  },
  {
   "cell_type": "code",
   "execution_count": null,
   "metadata": {},
   "outputs": [],
   "source": []
  }
 ],
 "metadata": {
  "kernelspec": {
   "display_name": "Julia 1.3.1",
   "language": "julia",
   "name": "julia-1.3"
  },
  "language_info": {
   "file_extension": ".jl",
   "mimetype": "application/julia",
   "name": "julia",
   "version": "1.3.1"
  }
 },
 "nbformat": 4,
 "nbformat_minor": 4
}

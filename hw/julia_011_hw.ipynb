{
 "cells": [
  {
   "cell_type": "markdown",
   "metadata": {
    "colab_type": "text",
    "id": "OeTSRKgZeaML"
   },
   "source": [
    "# Julia 日期與時間\n",
    "\n",
    "## Day 011 補充教材：不同語系的月份及星期顯示\n",
    "\n",
    "Julia 內建的日期與時間語系是英文，那是要顯示其他語系的話要如何辦到呢？可以設定不同語系的月份和星期名稱，在呼叫時間時指定 `locale` 關鍵字即可。"
   ]
  },
  {
   "cell_type": "code",
   "execution_count": 1,
   "metadata": {
    "ExecuteTime": {
     "end_time": "2020-04-14T02:01:23.137000+08:00",
     "start_time": "2020-04-13T18:01:18.388Z"
    },
    "colab": {},
    "colab_type": "code",
    "id": "R0GzErPJeaMM"
   },
   "outputs": [],
   "source": [
    "using Dates"
   ]
  },
  {
   "cell_type": "markdown",
   "metadata": {
    "colab_type": "text",
    "id": "R3WXjBEweaMR"
   },
   "source": [
    "Julia 內建的是英文語系。"
   ]
  },
  {
   "cell_type": "code",
   "execution_count": 2,
   "metadata": {
    "ExecuteTime": {
     "end_time": "2020-04-14T02:01:25.154000+08:00",
     "start_time": "2020-04-13T18:01:23.560Z"
    },
    "colab": {},
    "colab_type": "code",
    "id": "e1JFGdYAeaMR",
    "outputId": "09b229d7-7221-4c7b-a549-8da07b688333"
   },
   "outputs": [
    {
     "data": {
      "text/plain": [
       "2020-04-14T02:01:23.725"
      ]
     },
     "execution_count": 2,
     "metadata": {},
     "output_type": "execute_result"
    }
   ],
   "source": [
    "now()"
   ]
  },
  {
   "cell_type": "markdown",
   "metadata": {
    "colab_type": "text",
    "id": "_vX5JQnqeaMW"
   },
   "source": [
    "例如：顯示星期幾時，顯示的是英文名稱。"
   ]
  },
  {
   "cell_type": "code",
   "execution_count": 3,
   "metadata": {
    "ExecuteTime": {
     "end_time": "2020-04-14T02:01:27.407000+08:00",
     "start_time": "2020-04-13T18:01:26.554Z"
    },
    "colab": {},
    "colab_type": "code",
    "id": "51fVPw_heaMW",
    "outputId": "b7aab98f-b114-4df4-c4d0-0134a8300bd7"
   },
   "outputs": [
    {
     "data": {
      "text/plain": [
       "\"Tuesday\""
      ]
     },
     "execution_count": 3,
     "metadata": {},
     "output_type": "execute_result"
    }
   ],
   "source": [
    "dayname(now())"
   ]
  },
  {
   "cell_type": "code",
   "execution_count": 4,
   "metadata": {
    "ExecuteTime": {
     "end_time": "2020-04-14T02:01:28.577000+08:00",
     "start_time": "2020-04-13T18:01:28.493Z"
    },
    "colab": {},
    "colab_type": "code",
    "id": "TPsEW3yUeaMZ",
    "outputId": "f9d47a84-e95a-4a75-9d2b-d16b23576a38"
   },
   "outputs": [
    {
     "data": {
      "text/plain": [
       "\"Tuesday\""
      ]
     },
     "execution_count": 4,
     "metadata": {},
     "output_type": "execute_result"
    }
   ],
   "source": [
    "# 上面的程式等同於指定 english 為語系\n",
    "dayname(now(); locale=\"english\")"
   ]
  },
  {
   "cell_type": "markdown",
   "metadata": {
    "colab_type": "text",
    "id": "-bshEP0weaMc"
   },
   "source": [
    "如果我們想要顯示繁體中文的月份和星期，可透過定義**月份全名**、**月份簡稱**、**星期全名**、**星期簡稱**，並指定語系名稱。\n",
    "\n",
    "下面範例示範了設定**月份全名**、**星期全名**、**星期簡稱** (無月份簡稱)讓 _taiwan_ 語系來使用。"
   ]
  },
  {
   "cell_type": "code",
   "execution_count": 5,
   "metadata": {
    "ExecuteTime": {
     "end_time": "2020-04-14T02:02:20.372000+08:00",
     "start_time": "2020-04-13T18:02:20.102Z"
    },
    "colab": {},
    "colab_type": "code",
    "id": "UUkqJuqleaMd"
   },
   "outputs": [],
   "source": [
    "taiwan_months = [\"一月\", \"二月\", \"三月\", \"四月\", \"五月\", \"六月\",\n",
    "                 \"七月\", \"八月\", \"九月\", \"十月\", \"十一月\", \"十二月\"]\n",
    "\n",
    "taiwan_days = [\"星期一\", \"星期二\", \"星期三\", \"星期四\", \"星期五\", \"星期六\", \"星期日\"]\n",
    "\n",
    "taiwan_days_abbrev = [\"週一\", \"週二\", \"週三\", \"週四\", \"週五\", \"週六\", \"週日\"]\n",
    "\n",
    "Dates.LOCALES[\"taiwan\"] = Dates.DateLocale(taiwan_months, [\"\"], taiwan_days, taiwan_days_abbrev);"
   ]
  },
  {
   "cell_type": "markdown",
   "metadata": {
    "colab_type": "text",
    "id": "H3yicEd7eaMf"
   },
   "source": [
    "顯示台灣的星期全名和星期簡稱。"
   ]
  },
  {
   "cell_type": "code",
   "execution_count": 6,
   "metadata": {
    "ExecuteTime": {
     "end_time": "2020-04-14T02:02:22.018000+08:00",
     "start_time": "2020-04-13T18:02:22.015Z"
    },
    "colab": {},
    "colab_type": "code",
    "id": "qJt0ipyLeaMg",
    "outputId": "d56aee78-f1dc-4425-935b-d6a4b7c2af89"
   },
   "outputs": [
    {
     "data": {
      "text/plain": [
       "\"星期二\""
      ]
     },
     "execution_count": 6,
     "metadata": {},
     "output_type": "execute_result"
    }
   ],
   "source": [
    "dayname(now(); locale=\"taiwan\")"
   ]
  },
  {
   "cell_type": "code",
   "execution_count": 7,
   "metadata": {
    "ExecuteTime": {
     "end_time": "2020-04-14T02:02:23.315000+08:00",
     "start_time": "2020-04-13T18:02:23.292Z"
    },
    "colab": {},
    "colab_type": "code",
    "id": "RN1zwSRneaMj",
    "outputId": "e054bccb-c87c-4e20-de38-31f796c82b4d"
   },
   "outputs": [
    {
     "data": {
      "text/plain": [
       "\"週二\""
      ]
     },
     "execution_count": 7,
     "metadata": {},
     "output_type": "execute_result"
    }
   ],
   "source": [
    "dayabbr(now(); locale=\"taiwan\")"
   ]
  },
  {
   "cell_type": "markdown",
   "metadata": {
    "colab_type": "text",
    "id": "n6ewJDRveaMm"
   },
   "source": [
    "## Day 011 作業：新增另一個語系的月份與星期名稱\n",
    "\n",
    "請新增另一個語系的月份及星期，並嘗試印出不同語系的月份及星期簡稱/縮寫。\n",
    "\n",
    "下表為法文的月份及星期供參考。\n",
    "\n",
    "||月份全名|月份縮寫|\n",
    "|---|---|---|\n",
    "|一月|janvier|janv|\n",
    "|二月|février|févr|\n",
    "|三月|mars|mars|\n",
    "|四月|avril|avril|\n",
    "|五月|mai|mai|\n",
    "|六月|juin|juin|\n",
    "|七月|juillet|juil|\n",
    "|八月|août|août|\n",
    "|九月|septembre|sept|\n",
    "|十月|octobre|oct|\n",
    "|十一月|novembre|nov|\n",
    "|十二月|décembre|déc|\n",
    "\n",
    "||星期全名|星期縮寫|\n",
    "|---|---|---|\n",
    "|星期一|lundi|lun.|\n",
    "|星期二|mardi|mar.|\n",
    "|星期三|mercredi|mer.|\n",
    "|星期四|jeudi|jeu.|\n",
    "|星期五|vendredi|ven.|\n",
    "|星期六|samedi|sam.|\n",
    "|星期日|dimanche|dim.|"
   ]
  },
  {
   "cell_type": "code",
   "execution_count": 9,
   "metadata": {
    "ExecuteTime": {
     "end_time": "2020-04-14T02:09:26.316000+08:00",
     "start_time": "2020-04-13T18:09:26.307Z"
    },
    "colab": {},
    "colab_type": "code",
    "id": "tpESqZT2eaMn"
   },
   "outputs": [
    {
     "data": {
      "text/plain": [
       "Dates.DateLocale([\"janvier\", \"fevrier\", \"mars\", \"avril\", \"mai\", \"juin\", \"juillet\", \"aout\", \"septembre\", \"octobre\", \"novembre\", \"decembre\"], [\"janv\", \"fevr\", \"mars\", \"avril\", \"mai\", \"juin\", \"aout\", \"sept\", \"oct\", \"nov\", \"dec\"], [\"lundi\", \"mardi\", \"mercredi\", \"jeudi\", \"vendredi\", \"samedi\", \"dimanche\"], [\"lun.\", \"mar.\", \"mer.\", \"jeu.\", \"ven.\", \"sam.\", \"dim.\"], Dict(\"avril\" => 4,\"juillet\" => 7,\"decembre\" => 12,\"fevrier\" => 2,\"mai\" => 5,\"janvier\" => 1,\"aout\" => 8,\"mars\" => 3,\"septembre\" => 9,\"juin\" => 6…), Dict(\"fevr\" => 2,\"avril\" => 4,\"janv\" => 1,\"mai\" => 5,\"nov\" => 10,\"sept\" => 8,\"oct\" => 9,\"aout\" => 7,\"mars\" => 3,\"dec\" => 11…), Dict(\"mercredi\" => 3,\"mardi\" => 2,\"vendredi\" => 5,\"lundi\" => 1,\"jeudi\" => 4,\"dimanche\" => 7,\"samedi\" => 6), Dict(\"lun.\" => 1,\"dim.\" => 7,\"mar.\" => 2,\"ven.\" => 5,\"mer.\" => 3,\"jeu.\" => 4,\"sam.\" => 6))"
      ]
     },
     "execution_count": 9,
     "metadata": {},
     "output_type": "execute_result"
    }
   ],
   "source": [
    "french_months = [\"janvier\", \"fevrier\", \"mars\", \"avril\", \"mai\", \"juin\", \"juillet\", \"aout\", \"septembre\",\n",
    "                  \"octobre\", \"novembre\", \"decembre\"]\n",
    "french_months_abbrev = [\"janv\", \"fevr\", \"mars\", \"avril\", \"mai\", \"juin\", \"aout\", \"sept\", \"oct\", \"nov\", \"dec\"]\n",
    "french_days = [\"lundi\", \"mardi\", \"mercredi\", \"jeudi\", \"vendredi\", \"samedi\", \"dimanche\"]\n",
    "french_days_abbrev = [\"lun.\", \"mar.\", \"mer.\", \"jeu.\", \"ven.\", \"sam.\", \"dim.\"]\n",
    "\n",
    "Dates.LOCALES[\"french\"] = Dates.DateLocale(french_months, french_months_abbrev, french_days, french_days_abbrev)"
   ]
  },
  {
   "cell_type": "code",
   "execution_count": 13,
   "metadata": {
    "ExecuteTime": {
     "end_time": "2020-04-14T02:10:04.431000+08:00",
     "start_time": "2020-04-13T18:10:03.302Z"
    }
   },
   "outputs": [
    {
     "data": {
      "text/plain": [
       "Dict{String,Int64} with 7 entries:\n",
       "  \"lun.\" => 1\n",
       "  \"dim.\" => 7\n",
       "  \"mar.\" => 2\n",
       "  \"ven.\" => 5\n",
       "  \"mer.\" => 3\n",
       "  \"jeu.\" => 4\n",
       "  \"sam.\" => 6"
      ]
     },
     "execution_count": 13,
     "metadata": {},
     "output_type": "execute_result"
    }
   ],
   "source": [
    "Dates.LOCALES[\"french\"].day_of_week_abbr_value"
   ]
  },
  {
   "cell_type": "code",
   "execution_count": 14,
   "metadata": {
    "ExecuteTime": {
     "end_time": "2020-04-14T02:10:58.704000+08:00",
     "start_time": "2020-04-13T18:10:57.166Z"
    }
   },
   "outputs": [
    {
     "data": {
      "text/plain": [
       "12-element Array{String,1}:\n",
       " \"janvier\"  \n",
       " \"fevrier\"  \n",
       " \"mars\"     \n",
       " \"avril\"    \n",
       " \"mai\"      \n",
       " \"juin\"     \n",
       " \"juillet\"  \n",
       " \"aout\"     \n",
       " \"septembre\"\n",
       " \"octobre\"  \n",
       " \"novembre\" \n",
       " \"decembre\" "
      ]
     },
     "execution_count": 14,
     "metadata": {},
     "output_type": "execute_result"
    }
   ],
   "source": [
    "Dates.LOCALES[\"french\"].months"
   ]
  },
  {
   "cell_type": "code",
   "execution_count": 15,
   "metadata": {
    "ExecuteTime": {
     "end_time": "2020-04-14T02:11:10.808000+08:00",
     "start_time": "2020-04-13T18:11:10.805Z"
    }
   },
   "outputs": [
    {
     "data": {
      "text/plain": [
       "11-element Array{String,1}:\n",
       " \"janv\" \n",
       " \"fevr\" \n",
       " \"mars\" \n",
       " \"avril\"\n",
       " \"mai\"  \n",
       " \"juin\" \n",
       " \"aout\" \n",
       " \"sept\" \n",
       " \"oct\"  \n",
       " \"nov\"  \n",
       " \"dec\"  "
      ]
     },
     "execution_count": 15,
     "metadata": {},
     "output_type": "execute_result"
    }
   ],
   "source": [
    "Dates.LOCALES[\"french\"].months_abbr"
   ]
  },
  {
   "cell_type": "code",
   "execution_count": 16,
   "metadata": {
    "ExecuteTime": {
     "end_time": "2020-04-14T02:11:20.149000+08:00",
     "start_time": "2020-04-13T18:11:20.145Z"
    }
   },
   "outputs": [
    {
     "data": {
      "text/plain": [
       "7-element Array{String,1}:\n",
       " \"lundi\"   \n",
       " \"mardi\"   \n",
       " \"mercredi\"\n",
       " \"jeudi\"   \n",
       " \"vendredi\"\n",
       " \"samedi\"  \n",
       " \"dimanche\""
      ]
     },
     "execution_count": 16,
     "metadata": {},
     "output_type": "execute_result"
    }
   ],
   "source": [
    "Dates.LOCALES[\"french\"].days_of_week"
   ]
  },
  {
   "cell_type": "code",
   "execution_count": 17,
   "metadata": {
    "ExecuteTime": {
     "end_time": "2020-04-14T02:11:25.685000+08:00",
     "start_time": "2020-04-13T18:11:25.682Z"
    }
   },
   "outputs": [
    {
     "data": {
      "text/plain": [
       "7-element Array{String,1}:\n",
       " \"lun.\"\n",
       " \"mar.\"\n",
       " \"mer.\"\n",
       " \"jeu.\"\n",
       " \"ven.\"\n",
       " \"sam.\"\n",
       " \"dim.\""
      ]
     },
     "execution_count": 17,
     "metadata": {},
     "output_type": "execute_result"
    }
   ],
   "source": [
    "Dates.LOCALES[\"french\"].days_of_week_abbr"
   ]
  },
  {
   "cell_type": "code",
   "execution_count": null,
   "metadata": {},
   "outputs": [],
   "source": []
  }
 ],
 "metadata": {
  "colab": {
   "name": "julia_011_hw.ipynb",
   "provenance": []
  },
  "kernelspec": {
   "display_name": "Julia 1.3.1",
   "language": "julia",
   "name": "julia-1.3"
  },
  "language_info": {
   "file_extension": ".jl",
   "mimetype": "application/julia",
   "name": "julia",
   "version": "1.3.1"
  }
 },
 "nbformat": 4,
 "nbformat_minor": 1
}

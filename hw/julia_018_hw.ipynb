{
 "cells": [
  {
   "cell_type": "markdown",
   "metadata": {
    "colab_type": "text",
    "id": "2X-9mXIwlD2v"
   },
   "source": [
    "# DataFrames.jl 介紹 (二): Joins 與 Split-Apply-Combine Strategy\n",
    "\n",
    "## Day 018 作業1：The Split-Apply-Combine Strategy\n",
    "\n",
    "同 Day 017，請載入 2020/4/2 COVID-19 Daily Report 資料集，計算每個國家/地區的累計確診人數，並列出所有資料筆數。"
   ]
  },
  {
   "cell_type": "code",
   "execution_count": 1,
   "metadata": {
    "ExecuteTime": {
     "end_time": "2020-04-25T09:13:55.078000+08:00",
     "start_time": "2020-04-25T01:13:44.883Z"
    },
    "colab": {},
    "colab_type": "code",
    "id": "jw9JRWRilD2w"
   },
   "outputs": [],
   "source": [
    "using DataFrames, CSV"
   ]
  },
  {
   "cell_type": "code",
   "execution_count": 2,
   "metadata": {
    "ExecuteTime": {
     "end_time": "2020-04-25T09:14:22.282000+08:00",
     "start_time": "2020-04-25T01:13:45.374Z"
    },
    "colab": {},
    "colab_type": "code",
    "id": "yYc3lmgzlD22",
    "outputId": "7b405ad5-8c9c-4214-b100-40a6f3febe51"
   },
   "outputs": [
    {
     "data": {
      "text/html": [
       "<table class=\"data-frame\"><thead><tr><th></th><th>FIPS</th><th>Admin2</th><th>Province_State</th><th>Country_Region</th><th>Last_Update</th><th>Lat</th></tr><tr><th></th><th>Int64⍰</th><th>String⍰</th><th>String⍰</th><th>String</th><th>String</th><th>Float64⍰</th></tr></thead><tbody><p>2,569 rows × 12 columns (omitted printing of 6 columns)</p><tr><th>1</th><td>45001</td><td>Abbeville</td><td>South Carolina</td><td>US</td><td>2020-04-02 23:25:27</td><td>34.2233</td></tr><tr><th>2</th><td>22001</td><td>Acadia</td><td>Louisiana</td><td>US</td><td>2020-04-02 23:25:27</td><td>30.2951</td></tr><tr><th>3</th><td>51001</td><td>Accomack</td><td>Virginia</td><td>US</td><td>2020-04-02 23:25:27</td><td>37.7671</td></tr><tr><th>4</th><td>16001</td><td>Ada</td><td>Idaho</td><td>US</td><td>2020-04-02 23:25:27</td><td>43.4527</td></tr><tr><th>5</th><td>19001</td><td>Adair</td><td>Iowa</td><td>US</td><td>2020-04-02 23:25:27</td><td>41.3308</td></tr><tr><th>6</th><td>29001</td><td>Adair</td><td>Missouri</td><td>US</td><td>2020-04-02 23:25:27</td><td>40.1906</td></tr><tr><th>7</th><td>40001</td><td>Adair</td><td>Oklahoma</td><td>US</td><td>2020-04-02 23:25:27</td><td>35.8849</td></tr><tr><th>8</th><td>8001</td><td>Adams</td><td>Colorado</td><td>US</td><td>2020-04-02 23:25:27</td><td>39.8743</td></tr><tr><th>9</th><td>16003</td><td>Adams</td><td>Idaho</td><td>US</td><td>2020-04-02 23:25:27</td><td>44.8933</td></tr><tr><th>10</th><td>17001</td><td>Adams</td><td>Illinois</td><td>US</td><td>2020-04-02 23:25:27</td><td>39.9882</td></tr><tr><th>11</th><td>18001</td><td>Adams</td><td>Indiana</td><td>US</td><td>2020-04-02 23:25:27</td><td>40.7458</td></tr><tr><th>12</th><td>28001</td><td>Adams</td><td>Mississippi</td><td>US</td><td>2020-04-02 23:25:27</td><td>31.4767</td></tr><tr><th>13</th><td>31001</td><td>Adams</td><td>Nebraska</td><td>US</td><td>2020-04-02 23:25:27</td><td>40.5245</td></tr><tr><th>14</th><td>42001</td><td>Adams</td><td>Pennsylvania</td><td>US</td><td>2020-04-02 23:25:27</td><td>39.8714</td></tr><tr><th>15</th><td>53001</td><td>Adams</td><td>Washington</td><td>US</td><td>2020-04-02 23:25:27</td><td>46.983</td></tr><tr><th>16</th><td>55001</td><td>Adams</td><td>Wisconsin</td><td>US</td><td>2020-04-02 23:25:27</td><td>43.9697</td></tr><tr><th>17</th><td>50001</td><td>Addison</td><td>Vermont</td><td>US</td><td>2020-04-02 23:25:27</td><td>44.0322</td></tr><tr><th>18</th><td>45003</td><td>Aiken</td><td>South Carolina</td><td>US</td><td>2020-04-02 23:25:27</td><td>33.5434</td></tr><tr><th>19</th><td>12001</td><td>Alachua</td><td>Florida</td><td>US</td><td>2020-04-02 23:25:27</td><td>29.6787</td></tr><tr><th>20</th><td>37001</td><td>Alamance</td><td>North Carolina</td><td>US</td><td>2020-04-02 23:25:27</td><td>36.0435</td></tr><tr><th>21</th><td>6001</td><td>Alameda</td><td>California</td><td>US</td><td>2020-04-02 23:25:27</td><td>37.6463</td></tr><tr><th>22</th><td>8003</td><td>Alamosa</td><td>Colorado</td><td>US</td><td>2020-04-02 23:25:27</td><td>37.5725</td></tr><tr><th>23</th><td>36001</td><td>Albany</td><td>New York</td><td>US</td><td>2020-04-02 23:25:27</td><td>42.6006</td></tr><tr><th>24</th><td>56001</td><td>Albany</td><td>Wyoming</td><td>US</td><td>2020-04-02 23:25:27</td><td>41.655</td></tr><tr><th>25</th><td>51003</td><td>Albemarle</td><td>Virginia</td><td>US</td><td>2020-04-02 23:25:27</td><td>38.0208</td></tr><tr><th>26</th><td>28003</td><td>Alcorn</td><td>Mississippi</td><td>US</td><td>2020-04-02 23:25:27</td><td>34.8808</td></tr><tr><th>27</th><td>37003</td><td>Alexander</td><td>North Carolina</td><td>US</td><td>2020-04-02 23:25:27</td><td>35.9224</td></tr><tr><th>28</th><td>51510</td><td>Alexandria</td><td>Virginia</td><td>US</td><td>2020-04-02 23:25:27</td><td>38.814</td></tr><tr><th>29</th><td>19005</td><td>Allamakee</td><td>Iowa</td><td>US</td><td>2020-04-02 23:25:27</td><td>43.2838</td></tr><tr><th>30</th><td>26005</td><td>Allegan</td><td>Michigan</td><td>US</td><td>2020-04-02 23:25:27</td><td>42.5915</td></tr><tr><th>&vellip;</th><td>&vellip;</td><td>&vellip;</td><td>&vellip;</td><td>&vellip;</td><td>&vellip;</td><td>&vellip;</td></tr></tbody></table>"
      ],
      "text/latex": [
       "\\begin{tabular}{r|ccccccc}\n",
       "\t& FIPS & Admin2 & Province\\_State & Country\\_Region & Last\\_Update & Lat & \\\\\n",
       "\t\\hline\n",
       "\t& Int64⍰ & String⍰ & String⍰ & String & String & Float64⍰ & \\\\\n",
       "\t\\hline\n",
       "\t1 & 45001 & Abbeville & South Carolina & US & 2020-04-02 23:25:27 & 34.2233 & $\\dots$ \\\\\n",
       "\t2 & 22001 & Acadia & Louisiana & US & 2020-04-02 23:25:27 & 30.2951 & $\\dots$ \\\\\n",
       "\t3 & 51001 & Accomack & Virginia & US & 2020-04-02 23:25:27 & 37.7671 & $\\dots$ \\\\\n",
       "\t4 & 16001 & Ada & Idaho & US & 2020-04-02 23:25:27 & 43.4527 & $\\dots$ \\\\\n",
       "\t5 & 19001 & Adair & Iowa & US & 2020-04-02 23:25:27 & 41.3308 & $\\dots$ \\\\\n",
       "\t6 & 29001 & Adair & Missouri & US & 2020-04-02 23:25:27 & 40.1906 & $\\dots$ \\\\\n",
       "\t7 & 40001 & Adair & Oklahoma & US & 2020-04-02 23:25:27 & 35.8849 & $\\dots$ \\\\\n",
       "\t8 & 8001 & Adams & Colorado & US & 2020-04-02 23:25:27 & 39.8743 & $\\dots$ \\\\\n",
       "\t9 & 16003 & Adams & Idaho & US & 2020-04-02 23:25:27 & 44.8933 & $\\dots$ \\\\\n",
       "\t10 & 17001 & Adams & Illinois & US & 2020-04-02 23:25:27 & 39.9882 & $\\dots$ \\\\\n",
       "\t11 & 18001 & Adams & Indiana & US & 2020-04-02 23:25:27 & 40.7458 & $\\dots$ \\\\\n",
       "\t12 & 28001 & Adams & Mississippi & US & 2020-04-02 23:25:27 & 31.4767 & $\\dots$ \\\\\n",
       "\t13 & 31001 & Adams & Nebraska & US & 2020-04-02 23:25:27 & 40.5245 & $\\dots$ \\\\\n",
       "\t14 & 42001 & Adams & Pennsylvania & US & 2020-04-02 23:25:27 & 39.8714 & $\\dots$ \\\\\n",
       "\t15 & 53001 & Adams & Washington & US & 2020-04-02 23:25:27 & 46.983 & $\\dots$ \\\\\n",
       "\t16 & 55001 & Adams & Wisconsin & US & 2020-04-02 23:25:27 & 43.9697 & $\\dots$ \\\\\n",
       "\t17 & 50001 & Addison & Vermont & US & 2020-04-02 23:25:27 & 44.0322 & $\\dots$ \\\\\n",
       "\t18 & 45003 & Aiken & South Carolina & US & 2020-04-02 23:25:27 & 33.5434 & $\\dots$ \\\\\n",
       "\t19 & 12001 & Alachua & Florida & US & 2020-04-02 23:25:27 & 29.6787 & $\\dots$ \\\\\n",
       "\t20 & 37001 & Alamance & North Carolina & US & 2020-04-02 23:25:27 & 36.0435 & $\\dots$ \\\\\n",
       "\t21 & 6001 & Alameda & California & US & 2020-04-02 23:25:27 & 37.6463 & $\\dots$ \\\\\n",
       "\t22 & 8003 & Alamosa & Colorado & US & 2020-04-02 23:25:27 & 37.5725 & $\\dots$ \\\\\n",
       "\t23 & 36001 & Albany & New York & US & 2020-04-02 23:25:27 & 42.6006 & $\\dots$ \\\\\n",
       "\t24 & 56001 & Albany & Wyoming & US & 2020-04-02 23:25:27 & 41.655 & $\\dots$ \\\\\n",
       "\t25 & 51003 & Albemarle & Virginia & US & 2020-04-02 23:25:27 & 38.0208 & $\\dots$ \\\\\n",
       "\t26 & 28003 & Alcorn & Mississippi & US & 2020-04-02 23:25:27 & 34.8808 & $\\dots$ \\\\\n",
       "\t27 & 37003 & Alexander & North Carolina & US & 2020-04-02 23:25:27 & 35.9224 & $\\dots$ \\\\\n",
       "\t28 & 51510 & Alexandria & Virginia & US & 2020-04-02 23:25:27 & 38.814 & $\\dots$ \\\\\n",
       "\t29 & 19005 & Allamakee & Iowa & US & 2020-04-02 23:25:27 & 43.2838 & $\\dots$ \\\\\n",
       "\t30 & 26005 & Allegan & Michigan & US & 2020-04-02 23:25:27 & 42.5915 & $\\dots$ \\\\\n",
       "\t$\\dots$ & $\\dots$ & $\\dots$ & $\\dots$ & $\\dots$ & $\\dots$ & $\\dots$ &  \\\\\n",
       "\\end{tabular}\n"
      ],
      "text/plain": [
       "2569×12 DataFrame. Omitted printing of 8 columns\n",
       "│ Row  │ FIPS    │ Admin2     │ Province_State │ Country_Region       │\n",
       "│      │ \u001b[90mInt64⍰\u001b[39m  │ \u001b[90mString⍰\u001b[39m    │ \u001b[90mString⍰\u001b[39m        │ \u001b[90mString\u001b[39m               │\n",
       "├──────┼─────────┼────────────┼────────────────┼──────────────────────┤\n",
       "│ 1    │ 45001   │ Abbeville  │ South Carolina │ US                   │\n",
       "│ 2    │ 22001   │ Acadia     │ Louisiana      │ US                   │\n",
       "│ 3    │ 51001   │ Accomack   │ Virginia       │ US                   │\n",
       "│ 4    │ 16001   │ Ada        │ Idaho          │ US                   │\n",
       "│ 5    │ 19001   │ Adair      │ Iowa           │ US                   │\n",
       "│ 6    │ 29001   │ Adair      │ Missouri       │ US                   │\n",
       "│ 7    │ 40001   │ Adair      │ Oklahoma       │ US                   │\n",
       "│ 8    │ 8001    │ Adams      │ Colorado       │ US                   │\n",
       "│ 9    │ 16003   │ Adams      │ Idaho          │ US                   │\n",
       "│ 10   │ 17001   │ Adams      │ Illinois       │ US                   │\n",
       "⋮\n",
       "│ 2559 │ \u001b[90mmissing\u001b[39m │ \u001b[90mmissing\u001b[39m    │ \u001b[90mmissing\u001b[39m        │ Ukraine              │\n",
       "│ 2560 │ \u001b[90mmissing\u001b[39m │ \u001b[90mmissing\u001b[39m    │ \u001b[90mmissing\u001b[39m        │ United Arab Emirates │\n",
       "│ 2561 │ \u001b[90mmissing\u001b[39m │ \u001b[90mmissing\u001b[39m    │ \u001b[90mmissing\u001b[39m        │ United Kingdom       │\n",
       "│ 2562 │ \u001b[90mmissing\u001b[39m │ \u001b[90mmissing\u001b[39m    │ \u001b[90mmissing\u001b[39m        │ Uruguay              │\n",
       "│ 2563 │ \u001b[90mmissing\u001b[39m │ \u001b[90mmissing\u001b[39m    │ \u001b[90mmissing\u001b[39m        │ Uzbekistan           │\n",
       "│ 2564 │ \u001b[90mmissing\u001b[39m │ \u001b[90mmissing\u001b[39m    │ \u001b[90mmissing\u001b[39m        │ Venezuela            │\n",
       "│ 2565 │ \u001b[90mmissing\u001b[39m │ \u001b[90mmissing\u001b[39m    │ \u001b[90mmissing\u001b[39m        │ Vietnam              │\n",
       "│ 2566 │ \u001b[90mmissing\u001b[39m │ \u001b[90mmissing\u001b[39m    │ \u001b[90mmissing\u001b[39m        │ West Bank and Gaza   │\n",
       "│ 2567 │ \u001b[90mmissing\u001b[39m │ \u001b[90mmissing\u001b[39m    │ \u001b[90mmissing\u001b[39m        │ Zambia               │\n",
       "│ 2568 │ \u001b[90mmissing\u001b[39m │ \u001b[90mmissing\u001b[39m    │ \u001b[90mmissing\u001b[39m        │ Zimbabwe             │\n",
       "│ 2569 │ \u001b[90mmissing\u001b[39m │ unassigned │ Wyoming        │ US                   │"
      ]
     },
     "execution_count": 2,
     "metadata": {},
     "output_type": "execute_result"
    }
   ],
   "source": [
    "df = CSV.read(\"04-02-2020.csv\")"
   ]
  },
  {
   "cell_type": "markdown",
   "metadata": {
    "colab_type": "text",
    "id": "Pw8WALcSlD28"
   },
   "source": [
    "計算計算每個國家/地區的累計確診人數\n",
    "\n",
    "【提示】可使用 groupby 相關的函式"
   ]
  },
  {
   "cell_type": "code",
   "execution_count": 8,
   "metadata": {
    "ExecuteTime": {
     "end_time": "2020-04-25T09:19:54.758000+08:00",
     "start_time": "2020-04-25T01:19:54.747Z"
    },
    "colab": {},
    "colab_type": "code",
    "id": "OPoCjf98lD29"
   },
   "outputs": [
    {
     "data": {
      "text/html": [
       "<table class=\"data-frame\"><thead><tr><th></th><th>Province_State</th><th>count</th></tr><tr><th></th><th>String⍰</th><th>Int64</th></tr></thead><tbody><p>136 rows × 2 columns</p><tr><th>1</th><td>South Carolina</td><td>46</td></tr><tr><th>2</th><td>Louisiana</td><td>61</td></tr><tr><th>3</th><td>Virginia</td><td>103</td></tr><tr><th>4</th><td>Idaho</td><td>30</td></tr><tr><th>5</th><td>Iowa</td><td>64</td></tr><tr><th>6</th><td>Missouri</td><td>74</td></tr><tr><th>7</th><td>Oklahoma</td><td>54</td></tr><tr><th>8</th><td>Colorado</td><td>52</td></tr><tr><th>9</th><td>Illinois</td><td>62</td></tr><tr><th>10</th><td>Indiana</td><td>84</td></tr><tr><th>11</th><td>Mississippi</td><td>78</td></tr><tr><th>12</th><td>Nebraska</td><td>27</td></tr><tr><th>13</th><td>Pennsylvania</td><td>62</td></tr><tr><th>14</th><td>Washington</td><td>35</td></tr><tr><th>15</th><td>Wisconsin</td><td>53</td></tr><tr><th>16</th><td>Vermont</td><td>13</td></tr><tr><th>17</th><td>Florida</td><td>60</td></tr><tr><th>18</th><td>North Carolina</td><td>87</td></tr><tr><th>19</th><td>California</td><td>51</td></tr><tr><th>20</th><td>New York</td><td>59</td></tr><tr><th>21</th><td>Wyoming</td><td>17</td></tr><tr><th>22</th><td>Michigan</td><td>71</td></tr><tr><th>23</th><td>Maryland</td><td>25</td></tr><tr><th>24</th><td>Kentucky</td><td>68</td></tr><tr><th>25</th><td>Ohio</td><td>74</td></tr><tr><th>26</th><td>Alaska</td><td>7</td></tr><tr><th>27</th><td>Kansas</td><td>45</td></tr><tr><th>28</th><td>Tennessee</td><td>88</td></tr><tr><th>29</th><td>Texas</td><td>146</td></tr><tr><th>30</th><td>Maine</td><td>14</td></tr><tr><th>&vellip;</th><td>&vellip;</td><td>&vellip;</td></tr></tbody></table>"
      ],
      "text/latex": [
       "\\begin{tabular}{r|cc}\n",
       "\t& Province\\_State & count\\\\\n",
       "\t\\hline\n",
       "\t& String⍰ & Int64\\\\\n",
       "\t\\hline\n",
       "\t1 & South Carolina & 46 \\\\\n",
       "\t2 & Louisiana & 61 \\\\\n",
       "\t3 & Virginia & 103 \\\\\n",
       "\t4 & Idaho & 30 \\\\\n",
       "\t5 & Iowa & 64 \\\\\n",
       "\t6 & Missouri & 74 \\\\\n",
       "\t7 & Oklahoma & 54 \\\\\n",
       "\t8 & Colorado & 52 \\\\\n",
       "\t9 & Illinois & 62 \\\\\n",
       "\t10 & Indiana & 84 \\\\\n",
       "\t11 & Mississippi & 78 \\\\\n",
       "\t12 & Nebraska & 27 \\\\\n",
       "\t13 & Pennsylvania & 62 \\\\\n",
       "\t14 & Washington & 35 \\\\\n",
       "\t15 & Wisconsin & 53 \\\\\n",
       "\t16 & Vermont & 13 \\\\\n",
       "\t17 & Florida & 60 \\\\\n",
       "\t18 & North Carolina & 87 \\\\\n",
       "\t19 & California & 51 \\\\\n",
       "\t20 & New York & 59 \\\\\n",
       "\t21 & Wyoming & 17 \\\\\n",
       "\t22 & Michigan & 71 \\\\\n",
       "\t23 & Maryland & 25 \\\\\n",
       "\t24 & Kentucky & 68 \\\\\n",
       "\t25 & Ohio & 74 \\\\\n",
       "\t26 & Alaska & 7 \\\\\n",
       "\t27 & Kansas & 45 \\\\\n",
       "\t28 & Tennessee & 88 \\\\\n",
       "\t29 & Texas & 146 \\\\\n",
       "\t30 & Maine & 14 \\\\\n",
       "\t$\\dots$ & $\\dots$ & $\\dots$ \\\\\n",
       "\\end{tabular}\n"
      ],
      "text/plain": [
       "136×2 DataFrame\n",
       "│ Row │ Province_State           │ count │\n",
       "│     │ \u001b[90mUnion{Missing, String}\u001b[39m   │ \u001b[90mInt64\u001b[39m │\n",
       "├─────┼──────────────────────────┼───────┤\n",
       "│ 1   │ South Carolina           │ 46    │\n",
       "│ 2   │ Louisiana                │ 61    │\n",
       "│ 3   │ Virginia                 │ 103   │\n",
       "│ 4   │ Idaho                    │ 30    │\n",
       "│ 5   │ Iowa                     │ 64    │\n",
       "│ 6   │ Missouri                 │ 74    │\n",
       "│ 7   │ Oklahoma                 │ 54    │\n",
       "│ 8   │ Colorado                 │ 52    │\n",
       "│ 9   │ Illinois                 │ 62    │\n",
       "│ 10  │ Indiana                  │ 84    │\n",
       "⋮\n",
       "│ 126 │ Tianjin                  │ 1     │\n",
       "│ 127 │ Tibet                    │ 1     │\n",
       "│ 128 │ Turks and Caicos Islands │ 1     │\n",
       "│ 129 │ Victoria                 │ 1     │\n",
       "│ 130 │ Virgin Islands           │ 1     │\n",
       "│ 131 │ Western Australia        │ 1     │\n",
       "│ 132 │ Xinjiang                 │ 1     │\n",
       "│ 133 │ Yukon                    │ 1     │\n",
       "│ 134 │ Yunnan                   │ 1     │\n",
       "│ 135 │ Zhejiang                 │ 1     │\n",
       "│ 136 │ \u001b[90mmissing\u001b[39m                  │ 177   │"
      ]
     },
     "execution_count": 8,
     "metadata": {},
     "output_type": "execute_result"
    }
   ],
   "source": [
    "# groupby 地區, 算 length\n",
    "by(df, :Province_State, count = :Province_State => length)"
   ]
  },
  {
   "cell_type": "code",
   "execution_count": 6,
   "metadata": {
    "ExecuteTime": {
     "end_time": "2020-04-25T09:18:10.847000+08:00",
     "start_time": "2020-04-25T01:18:10.348Z"
    },
    "colab": {},
    "colab_type": "code",
    "id": "habhL6illD3B"
   },
   "outputs": [
    {
     "data": {
      "text/html": [
       "<table class=\"data-frame\"><thead><tr><th></th><th>Country_Region</th><th>count</th></tr><tr><th></th><th>String</th><th>Int64</th></tr></thead><tbody><p>181 rows × 2 columns</p><tr><th>1</th><td>US</td><td>2312</td></tr><tr><th>2</th><td>Canada</td><td>15</td></tr><tr><th>3</th><td>United Kingdom</td><td>10</td></tr><tr><th>4</th><td>China</td><td>33</td></tr><tr><th>5</th><td>Netherlands</td><td>5</td></tr><tr><th>6</th><td>Australia</td><td>8</td></tr><tr><th>7</th><td>Denmark</td><td>3</td></tr><tr><th>8</th><td>France</td><td>10</td></tr><tr><th>9</th><td>Afghanistan</td><td>1</td></tr><tr><th>10</th><td>Albania</td><td>1</td></tr><tr><th>11</th><td>Algeria</td><td>1</td></tr><tr><th>12</th><td>Andorra</td><td>1</td></tr><tr><th>13</th><td>Angola</td><td>1</td></tr><tr><th>14</th><td>Antigua and Barbuda</td><td>1</td></tr><tr><th>15</th><td>Argentina</td><td>1</td></tr><tr><th>16</th><td>Armenia</td><td>1</td></tr><tr><th>17</th><td>Austria</td><td>1</td></tr><tr><th>18</th><td>Azerbaijan</td><td>1</td></tr><tr><th>19</th><td>Bahamas</td><td>1</td></tr><tr><th>20</th><td>Bahrain</td><td>1</td></tr><tr><th>21</th><td>Bangladesh</td><td>1</td></tr><tr><th>22</th><td>Barbados</td><td>1</td></tr><tr><th>23</th><td>Belarus</td><td>1</td></tr><tr><th>24</th><td>Belgium</td><td>1</td></tr><tr><th>25</th><td>Belize</td><td>1</td></tr><tr><th>26</th><td>Benin</td><td>1</td></tr><tr><th>27</th><td>Bhutan</td><td>1</td></tr><tr><th>28</th><td>Bolivia</td><td>1</td></tr><tr><th>29</th><td>Bosnia and Herzegovina</td><td>1</td></tr><tr><th>30</th><td>Botswana</td><td>1</td></tr><tr><th>&vellip;</th><td>&vellip;</td><td>&vellip;</td></tr></tbody></table>"
      ],
      "text/latex": [
       "\\begin{tabular}{r|cc}\n",
       "\t& Country\\_Region & count\\\\\n",
       "\t\\hline\n",
       "\t& String & Int64\\\\\n",
       "\t\\hline\n",
       "\t1 & US & 2312 \\\\\n",
       "\t2 & Canada & 15 \\\\\n",
       "\t3 & United Kingdom & 10 \\\\\n",
       "\t4 & China & 33 \\\\\n",
       "\t5 & Netherlands & 5 \\\\\n",
       "\t6 & Australia & 8 \\\\\n",
       "\t7 & Denmark & 3 \\\\\n",
       "\t8 & France & 10 \\\\\n",
       "\t9 & Afghanistan & 1 \\\\\n",
       "\t10 & Albania & 1 \\\\\n",
       "\t11 & Algeria & 1 \\\\\n",
       "\t12 & Andorra & 1 \\\\\n",
       "\t13 & Angola & 1 \\\\\n",
       "\t14 & Antigua and Barbuda & 1 \\\\\n",
       "\t15 & Argentina & 1 \\\\\n",
       "\t16 & Armenia & 1 \\\\\n",
       "\t17 & Austria & 1 \\\\\n",
       "\t18 & Azerbaijan & 1 \\\\\n",
       "\t19 & Bahamas & 1 \\\\\n",
       "\t20 & Bahrain & 1 \\\\\n",
       "\t21 & Bangladesh & 1 \\\\\n",
       "\t22 & Barbados & 1 \\\\\n",
       "\t23 & Belarus & 1 \\\\\n",
       "\t24 & Belgium & 1 \\\\\n",
       "\t25 & Belize & 1 \\\\\n",
       "\t26 & Benin & 1 \\\\\n",
       "\t27 & Bhutan & 1 \\\\\n",
       "\t28 & Bolivia & 1 \\\\\n",
       "\t29 & Bosnia and Herzegovina & 1 \\\\\n",
       "\t30 & Botswana & 1 \\\\\n",
       "\t$\\dots$ & $\\dots$ & $\\dots$ \\\\\n",
       "\\end{tabular}\n"
      ],
      "text/plain": [
       "181×2 DataFrame\n",
       "│ Row │ Country_Region       │ count │\n",
       "│     │ \u001b[90mString\u001b[39m               │ \u001b[90mInt64\u001b[39m │\n",
       "├─────┼──────────────────────┼───────┤\n",
       "│ 1   │ US                   │ 2312  │\n",
       "│ 2   │ Canada               │ 15    │\n",
       "│ 3   │ United Kingdom       │ 10    │\n",
       "│ 4   │ China                │ 33    │\n",
       "│ 5   │ Netherlands          │ 5     │\n",
       "│ 6   │ Australia            │ 8     │\n",
       "│ 7   │ Denmark              │ 3     │\n",
       "│ 8   │ France               │ 10    │\n",
       "│ 9   │ Afghanistan          │ 1     │\n",
       "│ 10  │ Albania              │ 1     │\n",
       "⋮\n",
       "│ 171 │ Turkey               │ 1     │\n",
       "│ 172 │ Uganda               │ 1     │\n",
       "│ 173 │ Ukraine              │ 1     │\n",
       "│ 174 │ United Arab Emirates │ 1     │\n",
       "│ 175 │ Uruguay              │ 1     │\n",
       "│ 176 │ Uzbekistan           │ 1     │\n",
       "│ 177 │ Venezuela            │ 1     │\n",
       "│ 178 │ Vietnam              │ 1     │\n",
       "│ 179 │ West Bank and Gaza   │ 1     │\n",
       "│ 180 │ Zambia               │ 1     │\n",
       "│ 181 │ Zimbabwe             │ 1     │"
      ]
     },
     "execution_count": 6,
     "metadata": {},
     "output_type": "execute_result"
    }
   ],
   "source": [
    "# 顯示所有資料\n",
    "# groupby 國家, 算 length\n",
    "by(df, :Country_Region, count = :Country_Region => length)"
   ]
  },
  {
   "cell_type": "markdown",
   "metadata": {
    "colab_type": "text",
    "id": "2ye5nBbjlD3G"
   },
   "source": [
    "## 作業2：請列出美國各區域或事件 (依 Province_State 欄) 的累積確診、死亡、康復人數。\n",
    "\n",
    "【提示】使用 Split-Apply-Combine Strategy 時，有幾種不同的函式可以使用，請參照 `DataFrames.jl` 官方文件 [https://juliadata.github.io/DataFrames.jl/stable/lib/functions/#DataFrames.groupby](https://juliadata.github.io/DataFrames.jl/stable/lib/functions/#DataFrames.groupby)"
   ]
  },
  {
   "cell_type": "code",
   "execution_count": 13,
   "metadata": {
    "ExecuteTime": {
     "end_time": "2020-04-25T09:26:25.556000+08:00",
     "start_time": "2020-04-25T01:26:23.918Z"
    }
   },
   "outputs": [
    {
     "data": {
      "text/plain": [
       "12-element Array{Symbol,1}:\n",
       " :FIPS          \n",
       " :Admin2        \n",
       " :Province_State\n",
       " :Country_Region\n",
       " :Last_Update   \n",
       " :Lat           \n",
       " :Long_         \n",
       " :Confirmed     \n",
       " :Deaths        \n",
       " :Recovered     \n",
       " :Active        \n",
       " :Combined_Key  "
      ]
     },
     "execution_count": 13,
     "metadata": {},
     "output_type": "execute_result"
    }
   ],
   "source": [
    "# 輸出df欄位名稱\n",
    "\n",
    "names(df)"
   ]
  },
  {
   "cell_type": "code",
   "execution_count": 15,
   "metadata": {
    "ExecuteTime": {
     "end_time": "2020-04-25T09:29:01.925000+08:00",
     "start_time": "2020-04-25T01:29:01.808Z"
    },
    "colab": {},
    "colab_type": "code",
    "id": "wDmhNGHWlD3H"
   },
   "outputs": [
    {
     "data": {
      "text/html": [
       "<table class=\"data-frame\"><thead><tr><th></th><th>Country_Region</th><th>Country_Region_length</th><th>Deaths_length</th><th>Recovered_length</th></tr><tr><th></th><th>String</th><th>Int64</th><th>Int64</th><th>Int64</th></tr></thead><tbody><p>181 rows × 4 columns</p><tr><th>1</th><td>US</td><td>2312</td><td>2312</td><td>2312</td></tr><tr><th>2</th><td>Canada</td><td>15</td><td>15</td><td>15</td></tr><tr><th>3</th><td>United Kingdom</td><td>10</td><td>10</td><td>10</td></tr><tr><th>4</th><td>China</td><td>33</td><td>33</td><td>33</td></tr><tr><th>5</th><td>Netherlands</td><td>5</td><td>5</td><td>5</td></tr><tr><th>6</th><td>Australia</td><td>8</td><td>8</td><td>8</td></tr><tr><th>7</th><td>Denmark</td><td>3</td><td>3</td><td>3</td></tr><tr><th>8</th><td>France</td><td>10</td><td>10</td><td>10</td></tr><tr><th>9</th><td>Afghanistan</td><td>1</td><td>1</td><td>1</td></tr><tr><th>10</th><td>Albania</td><td>1</td><td>1</td><td>1</td></tr><tr><th>11</th><td>Algeria</td><td>1</td><td>1</td><td>1</td></tr><tr><th>12</th><td>Andorra</td><td>1</td><td>1</td><td>1</td></tr><tr><th>13</th><td>Angola</td><td>1</td><td>1</td><td>1</td></tr><tr><th>14</th><td>Antigua and Barbuda</td><td>1</td><td>1</td><td>1</td></tr><tr><th>15</th><td>Argentina</td><td>1</td><td>1</td><td>1</td></tr><tr><th>16</th><td>Armenia</td><td>1</td><td>1</td><td>1</td></tr><tr><th>17</th><td>Austria</td><td>1</td><td>1</td><td>1</td></tr><tr><th>18</th><td>Azerbaijan</td><td>1</td><td>1</td><td>1</td></tr><tr><th>19</th><td>Bahamas</td><td>1</td><td>1</td><td>1</td></tr><tr><th>20</th><td>Bahrain</td><td>1</td><td>1</td><td>1</td></tr><tr><th>21</th><td>Bangladesh</td><td>1</td><td>1</td><td>1</td></tr><tr><th>22</th><td>Barbados</td><td>1</td><td>1</td><td>1</td></tr><tr><th>23</th><td>Belarus</td><td>1</td><td>1</td><td>1</td></tr><tr><th>24</th><td>Belgium</td><td>1</td><td>1</td><td>1</td></tr><tr><th>25</th><td>Belize</td><td>1</td><td>1</td><td>1</td></tr><tr><th>26</th><td>Benin</td><td>1</td><td>1</td><td>1</td></tr><tr><th>27</th><td>Bhutan</td><td>1</td><td>1</td><td>1</td></tr><tr><th>28</th><td>Bolivia</td><td>1</td><td>1</td><td>1</td></tr><tr><th>29</th><td>Bosnia and Herzegovina</td><td>1</td><td>1</td><td>1</td></tr><tr><th>30</th><td>Botswana</td><td>1</td><td>1</td><td>1</td></tr><tr><th>&vellip;</th><td>&vellip;</td><td>&vellip;</td><td>&vellip;</td><td>&vellip;</td></tr></tbody></table>"
      ],
      "text/latex": [
       "\\begin{tabular}{r|cccc}\n",
       "\t& Country\\_Region & Country\\_Region\\_length & Deaths\\_length & Recovered\\_length\\\\\n",
       "\t\\hline\n",
       "\t& String & Int64 & Int64 & Int64\\\\\n",
       "\t\\hline\n",
       "\t1 & US & 2312 & 2312 & 2312 \\\\\n",
       "\t2 & Canada & 15 & 15 & 15 \\\\\n",
       "\t3 & United Kingdom & 10 & 10 & 10 \\\\\n",
       "\t4 & China & 33 & 33 & 33 \\\\\n",
       "\t5 & Netherlands & 5 & 5 & 5 \\\\\n",
       "\t6 & Australia & 8 & 8 & 8 \\\\\n",
       "\t7 & Denmark & 3 & 3 & 3 \\\\\n",
       "\t8 & France & 10 & 10 & 10 \\\\\n",
       "\t9 & Afghanistan & 1 & 1 & 1 \\\\\n",
       "\t10 & Albania & 1 & 1 & 1 \\\\\n",
       "\t11 & Algeria & 1 & 1 & 1 \\\\\n",
       "\t12 & Andorra & 1 & 1 & 1 \\\\\n",
       "\t13 & Angola & 1 & 1 & 1 \\\\\n",
       "\t14 & Antigua and Barbuda & 1 & 1 & 1 \\\\\n",
       "\t15 & Argentina & 1 & 1 & 1 \\\\\n",
       "\t16 & Armenia & 1 & 1 & 1 \\\\\n",
       "\t17 & Austria & 1 & 1 & 1 \\\\\n",
       "\t18 & Azerbaijan & 1 & 1 & 1 \\\\\n",
       "\t19 & Bahamas & 1 & 1 & 1 \\\\\n",
       "\t20 & Bahrain & 1 & 1 & 1 \\\\\n",
       "\t21 & Bangladesh & 1 & 1 & 1 \\\\\n",
       "\t22 & Barbados & 1 & 1 & 1 \\\\\n",
       "\t23 & Belarus & 1 & 1 & 1 \\\\\n",
       "\t24 & Belgium & 1 & 1 & 1 \\\\\n",
       "\t25 & Belize & 1 & 1 & 1 \\\\\n",
       "\t26 & Benin & 1 & 1 & 1 \\\\\n",
       "\t27 & Bhutan & 1 & 1 & 1 \\\\\n",
       "\t28 & Bolivia & 1 & 1 & 1 \\\\\n",
       "\t29 & Bosnia and Herzegovina & 1 & 1 & 1 \\\\\n",
       "\t30 & Botswana & 1 & 1 & 1 \\\\\n",
       "\t$\\dots$ & $\\dots$ & $\\dots$ & $\\dots$ & $\\dots$ \\\\\n",
       "\\end{tabular}\n"
      ],
      "text/plain": [
       "181×4 DataFrame. Omitted printing of 1 columns\n",
       "│ Row │ Country_Region       │ Country_Region_length │ Deaths_length │\n",
       "│     │ \u001b[90mString\u001b[39m               │ \u001b[90mInt64\u001b[39m                 │ \u001b[90mInt64\u001b[39m         │\n",
       "├─────┼──────────────────────┼───────────────────────┼───────────────┤\n",
       "│ 1   │ US                   │ 2312                  │ 2312          │\n",
       "│ 2   │ Canada               │ 15                    │ 15            │\n",
       "│ 3   │ United Kingdom       │ 10                    │ 10            │\n",
       "│ 4   │ China                │ 33                    │ 33            │\n",
       "│ 5   │ Netherlands          │ 5                     │ 5             │\n",
       "│ 6   │ Australia            │ 8                     │ 8             │\n",
       "│ 7   │ Denmark              │ 3                     │ 3             │\n",
       "│ 8   │ France               │ 10                    │ 10            │\n",
       "│ 9   │ Afghanistan          │ 1                     │ 1             │\n",
       "│ 10  │ Albania              │ 1                     │ 1             │\n",
       "⋮\n",
       "│ 171 │ Turkey               │ 1                     │ 1             │\n",
       "│ 172 │ Uganda               │ 1                     │ 1             │\n",
       "│ 173 │ Ukraine              │ 1                     │ 1             │\n",
       "│ 174 │ United Arab Emirates │ 1                     │ 1             │\n",
       "│ 175 │ Uruguay              │ 1                     │ 1             │\n",
       "│ 176 │ Uzbekistan           │ 1                     │ 1             │\n",
       "│ 177 │ Venezuela            │ 1                     │ 1             │\n",
       "│ 178 │ Vietnam              │ 1                     │ 1             │\n",
       "│ 179 │ West Bank and Gaza   │ 1                     │ 1             │\n",
       "│ 180 │ Zambia               │ 1                     │ 1             │\n",
       "│ 181 │ Zimbabwe             │ 1                     │ 1             │"
      ]
     },
     "execution_count": 15,
     "metadata": {},
     "output_type": "execute_result"
    }
   ],
   "source": [
    "# 美國各區域, 累積確診、死亡、康復同時顯示\n",
    "\n",
    "by(df, :Country_Region, [:Country_Region => length, :Deaths => length, :Recovered => length])"
   ]
  },
  {
   "cell_type": "code",
   "execution_count": 0,
   "metadata": {
    "colab": {},
    "colab_type": "code",
    "id": "DNcWry3zlD3N"
   },
   "outputs": [],
   "source": []
  }
 ],
 "metadata": {
  "colab": {
   "name": "julia_018_hw.ipynb",
   "provenance": []
  },
  "kernelspec": {
   "display_name": "Julia 1.3.1",
   "language": "julia",
   "name": "julia-1.3"
  },
  "language_info": {
   "file_extension": ".jl",
   "mimetype": "application/julia",
   "name": "julia",
   "version": "1.3.1"
  }
 },
 "nbformat": 4,
 "nbformat_minor": 1
}

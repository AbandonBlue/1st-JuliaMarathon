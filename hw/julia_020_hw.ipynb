{
 "cells": [
  {
   "cell_type": "markdown",
   "metadata": {
    "colab_type": "text",
    "id": "EVPW4kLCmaSc"
   },
   "source": [
    "## Day 20 作業：將 missing 值替代為其他值\n",
    "\n",
    "由於現實世界中的資料可能有缺漏，因此資料中就會有 missing 值存在，而在資料科學及機器學習中，缺漏值的處理關係到分析或預測的結果。\n",
    "\n",
    "在今天的作業中，請將資料集中的年齡缺漏值，依性別分別替換為資料集中男性或女性的年齡平均值。\n",
    "\n",
    "本次作業使用的資料集：Kaggle Titanic: Machine Learning from Disaster 的 train 資料集\n",
    "\n",
    "競賽主頁：[https://www.kaggle.com/c/titanic/overview](https://www.kaggle.com/c/titanic/overview)\n",
    "\n",
    "請自行下載資料集 **train.csv**：[https://www.kaggle.com/c/titanic/data](https://www.kaggle.com/c/titanic/data)"
   ]
  },
  {
   "cell_type": "code",
   "execution_count": 1,
   "metadata": {
    "ExecuteTime": {
     "end_time": "2020-05-01T14:23:55.755000+08:00",
     "start_time": "2020-05-01T06:23:46.602Z"
    },
    "colab": {},
    "colab_type": "code",
    "id": "eeWlfZJSmaSe"
   },
   "outputs": [],
   "source": [
    "using DataFrames, CSV"
   ]
  },
  {
   "cell_type": "code",
   "execution_count": 2,
   "metadata": {
    "ExecuteTime": {
     "end_time": "2020-05-01T14:24:05.945000+08:00",
     "start_time": "2020-05-01T06:23:47.328Z"
    },
    "colab": {},
    "colab_type": "code",
    "id": "IkfIcUkjmaTS",
    "outputId": "7c455008-ef6c-410c-a8ba-1ad7c6edbb2d"
   },
   "outputs": [
    {
     "data": {
      "text/html": [
       "<table class=\"data-frame\"><thead><tr><th></th><th>PassengerId</th><th>Survived</th><th>Pclass</th><th>Name</th></tr><tr><th></th><th>Int64</th><th>Int64</th><th>Int64</th><th>String</th></tr></thead><tbody><p>891 rows × 12 columns (omitted printing of 8 columns)</p><tr><th>1</th><td>1</td><td>0</td><td>3</td><td>Braund, Mr. Owen Harris</td></tr><tr><th>2</th><td>2</td><td>1</td><td>1</td><td>Cumings, Mrs. John Bradley (Florence Briggs Thayer)</td></tr><tr><th>3</th><td>3</td><td>1</td><td>3</td><td>Heikkinen, Miss. Laina</td></tr><tr><th>4</th><td>4</td><td>1</td><td>1</td><td>Futrelle, Mrs. Jacques Heath (Lily May Peel)</td></tr><tr><th>5</th><td>5</td><td>0</td><td>3</td><td>Allen, Mr. William Henry</td></tr><tr><th>6</th><td>6</td><td>0</td><td>3</td><td>Moran, Mr. James</td></tr><tr><th>7</th><td>7</td><td>0</td><td>1</td><td>McCarthy, Mr. Timothy J</td></tr><tr><th>8</th><td>8</td><td>0</td><td>3</td><td>Palsson, Master. Gosta Leonard</td></tr><tr><th>9</th><td>9</td><td>1</td><td>3</td><td>Johnson, Mrs. Oscar W (Elisabeth Vilhelmina Berg)</td></tr><tr><th>10</th><td>10</td><td>1</td><td>2</td><td>Nasser, Mrs. Nicholas (Adele Achem)</td></tr><tr><th>11</th><td>11</td><td>1</td><td>3</td><td>Sandstrom, Miss. Marguerite Rut</td></tr><tr><th>12</th><td>12</td><td>1</td><td>1</td><td>Bonnell, Miss. Elizabeth</td></tr><tr><th>13</th><td>13</td><td>0</td><td>3</td><td>Saundercock, Mr. William Henry</td></tr><tr><th>14</th><td>14</td><td>0</td><td>3</td><td>Andersson, Mr. Anders Johan</td></tr><tr><th>15</th><td>15</td><td>0</td><td>3</td><td>Vestrom, Miss. Hulda Amanda Adolfina</td></tr><tr><th>16</th><td>16</td><td>1</td><td>2</td><td>Hewlett, Mrs. (Mary D Kingcome) </td></tr><tr><th>17</th><td>17</td><td>0</td><td>3</td><td>Rice, Master. Eugene</td></tr><tr><th>18</th><td>18</td><td>1</td><td>2</td><td>Williams, Mr. Charles Eugene</td></tr><tr><th>19</th><td>19</td><td>0</td><td>3</td><td>Vander Planke, Mrs. Julius (Emelia Maria Vandemoortele)</td></tr><tr><th>20</th><td>20</td><td>1</td><td>3</td><td>Masselmani, Mrs. Fatima</td></tr><tr><th>21</th><td>21</td><td>0</td><td>2</td><td>Fynney, Mr. Joseph J</td></tr><tr><th>22</th><td>22</td><td>1</td><td>2</td><td>Beesley, Mr. Lawrence</td></tr><tr><th>23</th><td>23</td><td>1</td><td>3</td><td>McGowan, Miss. Anna \"Annie\"</td></tr><tr><th>24</th><td>24</td><td>1</td><td>1</td><td>Sloper, Mr. William Thompson</td></tr><tr><th>25</th><td>25</td><td>0</td><td>3</td><td>Palsson, Miss. Torborg Danira</td></tr><tr><th>26</th><td>26</td><td>1</td><td>3</td><td>Asplund, Mrs. Carl Oscar (Selma Augusta Emilia Johansson)</td></tr><tr><th>27</th><td>27</td><td>0</td><td>3</td><td>Emir, Mr. Farred Chehab</td></tr><tr><th>28</th><td>28</td><td>0</td><td>1</td><td>Fortune, Mr. Charles Alexander</td></tr><tr><th>29</th><td>29</td><td>1</td><td>3</td><td>O'Dwyer, Miss. Ellen \"Nellie\"</td></tr><tr><th>30</th><td>30</td><td>0</td><td>3</td><td>Todoroff, Mr. Lalio</td></tr><tr><th>&vellip;</th><td>&vellip;</td><td>&vellip;</td><td>&vellip;</td><td>&vellip;</td></tr></tbody></table>"
      ],
      "text/latex": [
       "\\begin{tabular}{r|ccccc}\n",
       "\t& PassengerId & Survived & Pclass & Name & \\\\\n",
       "\t\\hline\n",
       "\t& Int64 & Int64 & Int64 & String & \\\\\n",
       "\t\\hline\n",
       "\t1 & 1 & 0 & 3 & Braund, Mr. Owen Harris & $\\dots$ \\\\\n",
       "\t2 & 2 & 1 & 1 & Cumings, Mrs. John Bradley (Florence Briggs Thayer) & $\\dots$ \\\\\n",
       "\t3 & 3 & 1 & 3 & Heikkinen, Miss. Laina & $\\dots$ \\\\\n",
       "\t4 & 4 & 1 & 1 & Futrelle, Mrs. Jacques Heath (Lily May Peel) & $\\dots$ \\\\\n",
       "\t5 & 5 & 0 & 3 & Allen, Mr. William Henry & $\\dots$ \\\\\n",
       "\t6 & 6 & 0 & 3 & Moran, Mr. James & $\\dots$ \\\\\n",
       "\t7 & 7 & 0 & 1 & McCarthy, Mr. Timothy J & $\\dots$ \\\\\n",
       "\t8 & 8 & 0 & 3 & Palsson, Master. Gosta Leonard & $\\dots$ \\\\\n",
       "\t9 & 9 & 1 & 3 & Johnson, Mrs. Oscar W (Elisabeth Vilhelmina Berg) & $\\dots$ \\\\\n",
       "\t10 & 10 & 1 & 2 & Nasser, Mrs. Nicholas (Adele Achem) & $\\dots$ \\\\\n",
       "\t11 & 11 & 1 & 3 & Sandstrom, Miss. Marguerite Rut & $\\dots$ \\\\\n",
       "\t12 & 12 & 1 & 1 & Bonnell, Miss. Elizabeth & $\\dots$ \\\\\n",
       "\t13 & 13 & 0 & 3 & Saundercock, Mr. William Henry & $\\dots$ \\\\\n",
       "\t14 & 14 & 0 & 3 & Andersson, Mr. Anders Johan & $\\dots$ \\\\\n",
       "\t15 & 15 & 0 & 3 & Vestrom, Miss. Hulda Amanda Adolfina & $\\dots$ \\\\\n",
       "\t16 & 16 & 1 & 2 & Hewlett, Mrs. (Mary D Kingcome)  & $\\dots$ \\\\\n",
       "\t17 & 17 & 0 & 3 & Rice, Master. Eugene & $\\dots$ \\\\\n",
       "\t18 & 18 & 1 & 2 & Williams, Mr. Charles Eugene & $\\dots$ \\\\\n",
       "\t19 & 19 & 0 & 3 & Vander Planke, Mrs. Julius (Emelia Maria Vandemoortele) & $\\dots$ \\\\\n",
       "\t20 & 20 & 1 & 3 & Masselmani, Mrs. Fatima & $\\dots$ \\\\\n",
       "\t21 & 21 & 0 & 2 & Fynney, Mr. Joseph J & $\\dots$ \\\\\n",
       "\t22 & 22 & 1 & 2 & Beesley, Mr. Lawrence & $\\dots$ \\\\\n",
       "\t23 & 23 & 1 & 3 & McGowan, Miss. Anna \"Annie\" & $\\dots$ \\\\\n",
       "\t24 & 24 & 1 & 1 & Sloper, Mr. William Thompson & $\\dots$ \\\\\n",
       "\t25 & 25 & 0 & 3 & Palsson, Miss. Torborg Danira & $\\dots$ \\\\\n",
       "\t26 & 26 & 1 & 3 & Asplund, Mrs. Carl Oscar (Selma Augusta Emilia Johansson) & $\\dots$ \\\\\n",
       "\t27 & 27 & 0 & 3 & Emir, Mr. Farred Chehab & $\\dots$ \\\\\n",
       "\t28 & 28 & 0 & 1 & Fortune, Mr. Charles Alexander & $\\dots$ \\\\\n",
       "\t29 & 29 & 1 & 3 & O'Dwyer, Miss. Ellen \"Nellie\" & $\\dots$ \\\\\n",
       "\t30 & 30 & 0 & 3 & Todoroff, Mr. Lalio & $\\dots$ \\\\\n",
       "\t$\\dots$ & $\\dots$ & $\\dots$ & $\\dots$ & $\\dots$ &  \\\\\n",
       "\\end{tabular}\n"
      ],
      "text/plain": [
       "891×12 DataFrame. Omitted printing of 9 columns\n",
       "│ Row │ PassengerId │ Survived │ Pclass │\n",
       "│     │ \u001b[90mInt64\u001b[39m       │ \u001b[90mInt64\u001b[39m    │ \u001b[90mInt64\u001b[39m  │\n",
       "├─────┼─────────────┼──────────┼────────┤\n",
       "│ 1   │ 1           │ 0        │ 3      │\n",
       "│ 2   │ 2           │ 1        │ 1      │\n",
       "│ 3   │ 3           │ 1        │ 3      │\n",
       "│ 4   │ 4           │ 1        │ 1      │\n",
       "│ 5   │ 5           │ 0        │ 3      │\n",
       "│ 6   │ 6           │ 0        │ 3      │\n",
       "│ 7   │ 7           │ 0        │ 1      │\n",
       "│ 8   │ 8           │ 0        │ 3      │\n",
       "│ 9   │ 9           │ 1        │ 3      │\n",
       "│ 10  │ 10          │ 1        │ 2      │\n",
       "⋮\n",
       "│ 881 │ 881         │ 1        │ 2      │\n",
       "│ 882 │ 882         │ 0        │ 3      │\n",
       "│ 883 │ 883         │ 0        │ 3      │\n",
       "│ 884 │ 884         │ 0        │ 2      │\n",
       "│ 885 │ 885         │ 0        │ 3      │\n",
       "│ 886 │ 886         │ 0        │ 3      │\n",
       "│ 887 │ 887         │ 0        │ 2      │\n",
       "│ 888 │ 888         │ 1        │ 1      │\n",
       "│ 889 │ 889         │ 0        │ 3      │\n",
       "│ 890 │ 890         │ 1        │ 1      │\n",
       "│ 891 │ 891         │ 0        │ 3      │"
      ]
     },
     "execution_count": 2,
     "metadata": {},
     "output_type": "execute_result"
    }
   ],
   "source": [
    "df = CSV.read(\"train.csv\")"
   ]
  },
  {
   "cell_type": "code",
   "execution_count": 3,
   "metadata": {
    "ExecuteTime": {
     "end_time": "2020-05-01T14:24:41.927000+08:00",
     "start_time": "2020-05-01T06:24:41.095Z"
    },
    "colab": {},
    "colab_type": "code",
    "id": "otCGP_AtmaTm",
    "outputId": "3ff0bb8d-1103-47d8-fe43-47f18622f8c5"
   },
   "outputs": [
    {
     "data": {
      "text/plain": [
       "(891, 12)"
      ]
     },
     "execution_count": 3,
     "metadata": {},
     "output_type": "execute_result"
    }
   ],
   "source": [
    "size(df)"
   ]
  },
  {
   "cell_type": "markdown",
   "metadata": {
    "colab_type": "text",
    "id": "3JwkiUhYmaT5"
   },
   "source": [
    "呼叫 `describe()` 函式時，加上 `:nmissing` 參數，顯示各 column 的 missing 值數目。\n",
    "\n",
    "可以看到 Age 共有 177 個缺漏值。"
   ]
  },
  {
   "cell_type": "code",
   "execution_count": 4,
   "metadata": {
    "ExecuteTime": {
     "end_time": "2020-05-01T14:24:54.819000+08:00",
     "start_time": "2020-05-01T06:24:46.380Z"
    },
    "colab": {},
    "colab_type": "code",
    "id": "QWT4tm45maT7",
    "outputId": "d0c6a1ae-b249-4a32-9284-c3ffd4910b96"
   },
   "outputs": [
    {
     "data": {
      "text/html": [
       "<table class=\"data-frame\"><thead><tr><th></th><th>variable</th><th>nmissing</th></tr><tr><th></th><th>Symbol</th><th>Union…</th></tr></thead><tbody><p>12 rows × 2 columns</p><tr><th>1</th><td>PassengerId</td><td></td></tr><tr><th>2</th><td>Survived</td><td></td></tr><tr><th>3</th><td>Pclass</td><td></td></tr><tr><th>4</th><td>Name</td><td></td></tr><tr><th>5</th><td>Sex</td><td></td></tr><tr><th>6</th><td>Age</td><td>177</td></tr><tr><th>7</th><td>SibSp</td><td></td></tr><tr><th>8</th><td>Parch</td><td></td></tr><tr><th>9</th><td>Ticket</td><td></td></tr><tr><th>10</th><td>Fare</td><td></td></tr><tr><th>11</th><td>Cabin</td><td>687</td></tr><tr><th>12</th><td>Embarked</td><td>2</td></tr></tbody></table>"
      ],
      "text/latex": [
       "\\begin{tabular}{r|cc}\n",
       "\t& variable & nmissing\\\\\n",
       "\t\\hline\n",
       "\t& Symbol & Union…\\\\\n",
       "\t\\hline\n",
       "\t1 & PassengerId &  \\\\\n",
       "\t2 & Survived &  \\\\\n",
       "\t3 & Pclass &  \\\\\n",
       "\t4 & Name &  \\\\\n",
       "\t5 & Sex &  \\\\\n",
       "\t6 & Age & 177 \\\\\n",
       "\t7 & SibSp &  \\\\\n",
       "\t8 & Parch &  \\\\\n",
       "\t9 & Ticket &  \\\\\n",
       "\t10 & Fare &  \\\\\n",
       "\t11 & Cabin & 687 \\\\\n",
       "\t12 & Embarked & 2 \\\\\n",
       "\\end{tabular}\n"
      ],
      "text/plain": [
       "12×2 DataFrame\n",
       "│ Row │ variable    │ nmissing │\n",
       "│     │ \u001b[90mSymbol\u001b[39m      │ \u001b[90mUnion…\u001b[39m   │\n",
       "├─────┼─────────────┼──────────┤\n",
       "│ 1   │ PassengerId │          │\n",
       "│ 2   │ Survived    │          │\n",
       "│ 3   │ Pclass      │          │\n",
       "│ 4   │ Name        │          │\n",
       "│ 5   │ Sex         │          │\n",
       "│ 6   │ Age         │ 177      │\n",
       "│ 7   │ SibSp       │          │\n",
       "│ 8   │ Parch       │          │\n",
       "│ 9   │ Ticket      │          │\n",
       "│ 10  │ Fare        │          │\n",
       "│ 11  │ Cabin       │ 687      │\n",
       "│ 12  │ Embarked    │ 2        │"
      ]
     },
     "execution_count": 4,
     "metadata": {},
     "output_type": "execute_result"
    }
   ],
   "source": [
    "describe(df, :nmissing)"
   ]
  },
  {
   "cell_type": "markdown",
   "metadata": {
    "colab_type": "text",
    "id": "feAkzNA-maUC"
   },
   "source": [
    "計算男性及女性的平均年齡。\n",
    "\n",
    "【提示】使用 `skipmissing()` 去掉缺漏值後，再計算平均值。"
   ]
  },
  {
   "cell_type": "code",
   "execution_count": 5,
   "metadata": {
    "ExecuteTime": {
     "end_time": "2020-05-01T14:25:00.498000+08:00",
     "start_time": "2020-05-01T06:24:58.240Z"
    },
    "colab": {},
    "colab_type": "code",
    "id": "wRiM0Gq_maUD"
   },
   "outputs": [],
   "source": [
    "using Statistics"
   ]
  },
  {
   "cell_type": "code",
   "execution_count": 13,
   "metadata": {
    "ExecuteTime": {
     "end_time": "2020-05-01T14:38:07.124000+08:00",
     "start_time": "2020-05-01T06:38:06.066Z"
    },
    "colab": {},
    "colab_type": "code",
    "id": "54yYKzADmaUM"
   },
   "outputs": [
    {
     "data": {
      "text/plain": [
       "30.72664459161148"
      ]
     },
     "execution_count": 13,
     "metadata": {},
     "output_type": "execute_result"
    }
   ],
   "source": [
    "male_age_avg = mean(skipmissing(df[df.Sex .==\"male\", :Age]))"
   ]
  },
  {
   "cell_type": "code",
   "execution_count": 14,
   "metadata": {
    "ExecuteTime": {
     "end_time": "2020-05-01T14:38:30.126000+08:00",
     "start_time": "2020-05-01T06:38:30.121Z"
    },
    "colab": {},
    "colab_type": "code",
    "id": "4w92N00-maUT"
   },
   "outputs": [
    {
     "data": {
      "text/plain": [
       "27.915708812260537"
      ]
     },
     "execution_count": 14,
     "metadata": {},
     "output_type": "execute_result"
    }
   ],
   "source": [
    "female_age_avg = mean(skipmissing(df[df.Sex .== \"female\", :Age]))"
   ]
  },
  {
   "cell_type": "markdown",
   "metadata": {
    "colab_type": "text",
    "id": "-O9fseP7maUa"
   },
   "source": [
    "將 Age column 中的 missing 值，依性別替換為上面計算出來的平均年齡值。\n",
    "\n",
    "【提示】可產生新的 column 來存放新的結果，而不取代掉原先的 Age column。"
   ]
  },
  {
   "cell_type": "code",
   "execution_count": 15,
   "metadata": {
    "ExecuteTime": {
     "end_time": "2020-05-01T14:39:20.185000+08:00",
     "start_time": "2020-05-01T06:39:18.066Z"
    },
    "colab": {},
    "colab_type": "code",
    "id": "UEtMiJrOmaUb"
   },
   "outputs": [
    {
     "data": {
      "text/plain": [
       "891-element Array{Float64,1}:\n",
       " 22.0              \n",
       " 38.0              \n",
       " 26.0              \n",
       " 35.0              \n",
       " 35.0              \n",
       " 30.72664459161148 \n",
       " 54.0              \n",
       "  2.0              \n",
       " 27.0              \n",
       " 14.0              \n",
       "  4.0              \n",
       " 58.0              \n",
       " 20.0              \n",
       "  ⋮                \n",
       " 56.0              \n",
       " 25.0              \n",
       " 33.0              \n",
       " 22.0              \n",
       " 28.0              \n",
       " 25.0              \n",
       " 39.0              \n",
       " 27.0              \n",
       " 19.0              \n",
       " 27.915708812260537\n",
       " 26.0              \n",
       " 32.0              "
      ]
     },
     "execution_count": 15,
     "metadata": {},
     "output_type": "execute_result"
    }
   ],
   "source": [
    "# 請輸入程式碼\n",
    "\n",
    "df.new_Age = map(eachrow(df)) do r\n",
    "    if (r.Sex == \"male\") & (ismissing(r.Age)) \n",
    "        Age = male_age_avg\n",
    "    elseif (r.Sex == \"female\") & (ismissing(r.Age))\n",
    "        Age = female_age_avg\n",
    "    else\n",
    "        Age = r.Age\n",
    "    end\n",
    "end"
   ]
  },
  {
   "cell_type": "code",
   "execution_count": null,
   "metadata": {
    "ExecuteTime": {
     "start_time": "2020-05-01T06:40:16.247Z"
    },
    "colab": {},
    "colab_type": "code",
    "id": "szWNK43vmaUh"
   },
   "outputs": [
    {
     "name": "stdout",
     "output_type": "stream",
     "text": [
      "891×3 DataFrame\n",
      "│ Row │ Sex    │ Age      │ new_Age │\n",
      "│     │ \u001b[90mString\u001b[39m │ \u001b[90mFloat64⍰\u001b[39m │ \u001b[90mFloat64\u001b[39m │\n",
      "├─────┼────────┼──────────┼─────────┤\n",
      "│ 1   │ male   │ 22.0     │ 22.0    │\n",
      "│ 2   │ female │ 38.0     │ 38.0    │\n",
      "│ 3   │ female │ 26.0     │ 26.0    │\n",
      "│ 4   │ female │ 35.0     │ 35.0    │\n",
      "│ 5   │ male   │ 35.0     │ 35.0    │\n",
      "│ 6   │ male   │ \u001b[90mmissing\u001b[39m  │ 30.7266 │\n",
      "│ 7   │ male   │ 54.0     │ 54.0    │\n",
      "│ 8   │ male   │ 2.0      │ 2.0     │\n",
      "│ 9   │ female │ 27.0     │ 27.0    │\n",
      "│ 10  │ female │ 14.0     │ 14.0    │\n",
      "│ 11  │ female │ 4.0      │ 4.0     │\n",
      "│ 12  │ female │ 58.0     │ 58.0    │\n",
      "│ 13  │ male   │ 20.0     │ 20.0    │\n",
      "│ 14  │ male   │ 39.0     │ 39.0    │\n",
      "│ 15  │ female │ 14.0     │ 14.0    │\n",
      "│ 16  │ female │ 55.0     │ 55.0    │\n",
      "│ 17  │ male   │ 2.0      │ 2.0     │\n",
      "│ 18  │ male   │ \u001b[90mmissing\u001b[39m  │ 30.7266 │\n",
      "│ 19  │ female │ 31.0     │ 31.0    │\n",
      "│ 20  │ female │ \u001b[90mmissing\u001b[39m  │ 27.9157 │\n",
      "│ 21  │ male   │ 35.0     │ 35.0    │\n",
      "│ 22  │ male   │ 34.0     │ 34.0    │\n",
      "│ 23  │ female │ 15.0     │ 15.0    │\n",
      "│ 24  │ male   │ 28.0     │ 28.0    │\n",
      "│ 25  │ female │ 8.0      │ 8.0     │\n",
      "│ 26  │ female │ 38.0     │ 38.0    │\n",
      "│ 27  │ male   │ \u001b[90mmissing\u001b[39m  │ 30.7266 │\n",
      "│ 28  │ male   │ 19.0     │ 19.0    │\n",
      "│ 29  │ female │ \u001b[90mmissing\u001b[39m  │ 27.9157 │\n",
      "│ 30  │ male   │ \u001b[90mmissing\u001b[39m  │ 30.7266 │\n",
      "│ 31  │ male   │ 40.0     │ 40.0    │\n",
      "│ 32  │ female │ \u001b[90mmissing\u001b[39m  │ 27.9157 │\n",
      "│ 33  │ female │ \u001b[90mmissing\u001b[39m  │ 27.9157 │\n",
      "│ 34  │ male   │ 66.0     │ 66.0    │\n",
      "│ 35  │ male   │ 28.0     │ 28.0    │\n",
      "│ 36  │ male   │ 42.0     │ 42.0    │\n",
      "│ 37  │ male   │ \u001b[90mmissing\u001b[39m  │ 30.7266 │\n",
      "│ 38  │ male   │ 21.0     │ 21.0    │\n",
      "│ 39  │ female │ 18.0     │ 18.0    │\n",
      "│ 40  │ female │ 14.0     │ 14.0    │\n",
      "│ 41  │ female │ 40.0     │ 40.0    │\n",
      "│ 42  │ female │ 27.0     │ 27.0    │\n",
      "│ 43  │ male   │ \u001b[90mmissing\u001b[39m  │ 30.7266 │\n",
      "│ 44  │ female │ 3.0      │ 3.0     │\n",
      "│ 45  │ female │ 19.0     │ 19.0    │\n",
      "│ 46  │ male   │ \u001b[90mmissing\u001b[39m  │ 30.7266 │\n",
      "│ 47  │ male   │ \u001b[90mmissing\u001b[39m  │ 30.7266 │\n",
      "│ 48  │ female │ \u001b[90mmissing\u001b[39m  │ 27.9157 │\n",
      "│ 49  │ male   │ \u001b[90mmissing\u001b[39m  │ 30.7266 │\n",
      "│ 50  │ female │ 18.0     │ 18.0    │\n",
      "│ 51  │ male   │ 7.0      │ 7.0     │\n",
      "│ 52  │ male   │ 21.0     │ 21.0    │\n",
      "│ 53  │ female │ 49.0     │ 49.0    │\n",
      "│ 54  │ female │ 29.0     │ 29.0    │\n",
      "│ 55  │ male   │ 65.0     │ 65.0    │\n",
      "│ 56  │ male   │ \u001b[90mmissing\u001b[39m  │ 30.7266 │\n",
      "│ 57  │ female │ 21.0     │ 21.0    │\n",
      "│ 58  │ male   │ 28.5     │ 28.5    │\n",
      "│ 59  │ female │ 5.0      │ 5.0     │\n",
      "│ 60  │ male   │ 11.0     │ 11.0    │\n",
      "│ 61  │ male   │ 22.0     │ 22.0    │\n",
      "│ 62  │ female │ 38.0     │ 38.0    │\n",
      "│ 63  │ male   │ 45.0     │ 45.0    │\n",
      "│ 64  │ male   │ 4.0      │ 4.0     │\n",
      "│ 65  │ male   │ \u001b[90mmissing\u001b[39m  │ 30.7266 │\n",
      "│ 66  │ male   │ \u001b[90mmissing\u001b[39m  │ 30.7266 │\n",
      "│ 67  │ female │ 29.0     │ 29.0    │\n",
      "│ 68  │ male   │ 19.0     │ 19.0    │\n",
      "│ 69  │ female │ 17.0     │ 17.0    │\n",
      "│ 70  │ male   │ 26.0     │ 26.0    │\n",
      "│ 71  │ male   │ 32.0     │ 32.0    │\n",
      "│ 72  │ female │ 16.0     │ 16.0    │\n",
      "│ 73  │ male   │ 21.0     │ 21.0    │\n",
      "│ 74  │ male   │ 26.0     │ 26.0    │\n",
      "│ 75  │ male   │ 32.0     │ 32.0    │\n",
      "│ 76  │ male   │ 25.0     │ 25.0    │\n",
      "│ 77  │ male   │ \u001b[90mmissing\u001b[39m  │ 30.7266 │\n",
      "│ 78  │ male   │ \u001b[90mmissing\u001b[39m  │ 30.7266 │\n",
      "│ 79  │ male   │ 0.83     │ 0.83    │\n",
      "│ 80  │ female │ 30.0     │ 30.0    │\n",
      "│ 81  │ male   │ 22.0     │ 22.0    │\n",
      "│ 82  │ male   │ 29.0     │ 29.0    │\n",
      "│ 83  │ female │ \u001b[90mmissing\u001b[39m  │ 27.9157 │\n",
      "│ 84  │ male   │ 28.0     │ 28.0    │\n",
      "│ 85  │ female │ 17.0     │ 17.0    │\n",
      "│ 86  │ female │ 33.0     │ 33.0    │\n",
      "│ 87  │ male   │ 16.0     │ 16.0    │\n",
      "│ 88  │ male   │ \u001b[90mmissing\u001b[39m  │ 30.7266 │\n",
      "│ 89  │ female │ 23.0     │ 23.0    │\n",
      "│ 90  │ male   │ 24.0     │ 24.0    │\n",
      "│ 91  │ male   │ 29.0     │ 29.0    │\n",
      "│ 92  │ male   │ 20.0     │ 20.0    │\n",
      "│ 93  │ male   │ 46.0     │ 46.0    │\n",
      "│ 94  │ male   │ 26.0     │ 26.0    │\n",
      "│ 95  │ male   │ 59.0     │ 59.0    │\n",
      "│ 96  │ male   │ \u001b[90mmissing\u001b[39m  │ 30.7266 │\n",
      "│ 97  │ male   │ 71.0     │ 71.0    │\n",
      "│ 98  │ male   │ 23.0     │ 23.0    │\n",
      "│ 99  │ female │ 34.0     │ 34.0    │\n",
      "│ 100 │ male   │ 34.0     │ 34.0    │\n",
      "│ 101 │ female │ 28.0     │ 28.0    │\n",
      "│ 102 │ male   │ \u001b[90mmissing\u001b[39m  │ 30.7266 │\n",
      "│ 103 │ male   │ 21.0     │ 21.0    │\n",
      "│ 104 │ male   │ 33.0     │ 33.0    │\n",
      "│ 105 │ male   │ 37.0     │ 37.0    │\n",
      "│ 106 │ male   │ 28.0     │ 28.0    │\n",
      "│ 107 │ female │ 21.0     │ 21.0    │\n",
      "│ 108 │ male   │ \u001b[90mmissing\u001b[39m  │ 30.7266 │\n",
      "│ 109 │ male   │ 38.0     │ 38.0    │\n",
      "│ 110 │ female │ \u001b[90mmissing\u001b[39m  │ 27.9157 │\n",
      "│ 111 │ male   │ 47.0     │ 47.0    │\n",
      "│ 112 │ female │ 14.5     │ 14.5    │\n",
      "│ 113 │ male   │ 22.0     │ 22.0    │\n",
      "│ 114 │ female │ 20.0     │ 20.0    │\n",
      "│ 115 │ female │ 17.0     │ 17.0    │\n",
      "│ 116 │ male   │ 21.0     │ 21.0    │\n",
      "│ 117 │ male   │ 70.5     │ 70.5    │\n",
      "│ 118 │ male   │ 29.0     │ 29.0    │\n",
      "│ 119 │ male   │ 24.0     │ 24.0    │\n",
      "│ 120 │ female │ 2.0      │ 2.0     │\n",
      "│ 121 │ male   │ 21.0     │ 21.0    │\n",
      "│ 122 │ male   │ \u001b[90mmissing\u001b[39m  │ 30.7266 │\n",
      "│ 123 │ male   │ 32.5     │ 32.5    │\n",
      "│ 124 │ female │ 32.5     │ 32.5    │\n",
      "│ 125 │ male   │ 54.0     │ 54.0    │\n",
      "│ 126 │ male   │ 12.0     │ 12.0    │\n",
      "│ 127 │ male   │ \u001b[90mmissing\u001b[39m  │ 30.7266 │\n",
      "│ 128 │ male   │ 24.0     │ 24.0    │\n",
      "│ 129 │ female │ \u001b[90mmissing\u001b[39m  │ 27.9157 │\n",
      "│ 130 │ male   │ 45.0     │ 45.0    │\n",
      "│ 131 │ male   │ 33.0     │ 33.0    │\n",
      "│ 132 │ male   │ 20.0     │ 20.0    │\n",
      "│ 133 │ female │ 47.0     │ 47.0    │\n",
      "│ 134 │ female │ 29.0     │ 29.0    │\n",
      "│ 135 │ male   │ 25.0     │ 25.0    │\n",
      "│ 136 │ male   │ 23.0     │ 23.0    │\n",
      "│ 137 │ female │ 19.0     │ 19.0    │\n",
      "│ 138 │ male   │ 37.0     │ 37.0    │\n",
      "│ 139 │ male   │ 16.0     │ 16.0    │\n",
      "│ 140 │ male   │ 24.0     │ 24.0    │\n",
      "│ 141 │ female │ \u001b[90mmissing\u001b[39m  │ 27.9157 │\n",
      "│ 142 │ female │ 22.0     │ 22.0    │\n",
      "│ 143 │ female │ 24.0     │ 24.0    │\n",
      "│ 144 │ male   │ 19.0     │ 19.0    │\n",
      "│ 145 │ male   │ 18.0     │ 18.0    │\n",
      "│ 146 │ male   │ 19.0     │ 19.0    │\n",
      "│ 147 │ male   │ 27.0     │ 27.0    │\n",
      "│ 148 │ female │ 9.0      │ 9.0     │\n",
      "│ 149 │ male   │ 36.5     │ 36.5    │\n",
      "│ 150 │ male   │ 42.0     │ 42.0    │\n",
      "│ 151 │ male   │ 51.0     │ 51.0    │\n",
      "│ 152 │ female │ 22.0     │ 22.0    │\n",
      "│ 153 │ male   │ 55.5     │ 55.5    │\n",
      "│ 154 │ male   │ 40.5     │ 40.5    │\n",
      "│ 155 │ male   │ \u001b[90mmissing\u001b[39m  │ 30.7266 │\n",
      "│ 156 │ male   │ 51.0     │ 51.0    │\n",
      "│ 157 │ female │ 16.0     │ 16.0    │\n",
      "│ 158 │ male   │ 30.0     │ 30.0    │\n",
      "│ 159 │ male   │ \u001b[90mmissing\u001b[39m  │ 30.7266 │\n",
      "│ 160 │ male   │ \u001b[90mmissing\u001b[39m  │ 30.7266 │\n",
      "│ 161 │ male   │ 44.0     │ 44.0    │\n",
      "│ 162 │ female │ 40.0     │ 40.0    │\n",
      "│ 163 │ male   │ 26.0     │ 26.0    │\n",
      "│ 164 │ male   │ 17.0     │ 17.0    │\n",
      "│ 165 │ male   │ 1.0      │ 1.0     │\n",
      "│ 166 │ male   │ 9.0      │ 9.0     │\n",
      "│ 167 │ female │ \u001b[90mmissing\u001b[39m  │ 27.9157 │\n",
      "│ 168 │ female │ 45.0     │ 45.0    │\n",
      "│ 169 │ male   │ \u001b[90mmissing\u001b[39m  │ 30.7266 │\n",
      "│ 170 │ male   │ 28.0     │ 28.0    │\n",
      "│ 171 │ male   │ 61.0     │ 61.0    │\n",
      "│ 172 │ male   │ 4.0      │ 4.0     │\n",
      "│ 173 │ female │ 1.0      │ 1.0     │\n",
      "│ 174 │ male   │ 21.0     │ 21.0    │\n",
      "│ 175 │ male   │ 56.0     │ 56.0    │\n",
      "│ 176 │ male   │ 18.0     │ 18.0    │\n",
      "│ 177 │ male   │ \u001b[90mmissing\u001b[39m  │ 30.7266 │\n",
      "│ 178 │ female │ 50.0     │ 50.0    │\n",
      "│ 179 │ male   │ 30.0     │ 30.0    │\n",
      "│ 180 │ male   │ 36.0     │ 36.0    │\n",
      "│ 181 │ female │ \u001b[90mmissing\u001b[39m  │ 27.9157 │\n",
      "│ 182 │ male   │ \u001b[90mmissing\u001b[39m  │ 30.7266 │\n",
      "│ 183 │ male   │ 9.0      │ 9.0     │\n",
      "│ 184 │ male   │ 1.0      │ 1.0     │\n",
      "│ 185 │ female │ 4.0      │ 4.0     │\n",
      "│ 186 │ male   │ \u001b[90mmissing\u001b[39m  │ 30.7266 │\n",
      "│ 187 │ female │ \u001b[90mmissing\u001b[39m  │ 27.9157 │\n",
      "│ 188 │ male   │ 45.0     │ 45.0    │\n",
      "│ 189 │ male   │ 40.0     │ 40.0    │\n",
      "│ 190 │ male   │ 36.0     │ 36.0    │\n",
      "│ 191 │ female │ 32.0     │ 32.0    │\n",
      "│ 192 │ male   │ 19.0     │ 19.0    │\n",
      "│ 193 │ female │ 19.0     │ 19.0    │\n",
      "│ 194 │ male   │ 3.0      │ 3.0     │\n",
      "│ 195 │ female │ 44.0     │ 44.0    │\n",
      "│ 196 │ female │ 58.0     │ 58.0    │\n",
      "│ 197 │ male   │ \u001b[90mmissing\u001b[39m  │ 30.7266 │\n",
      "│ 198 │ male   │ 42.0     │ 42.0    │\n",
      "│ 199 │ female │ \u001b[90mmissing\u001b[39m  │ 27.9157 │\n",
      "│ 200 │ female │ 24.0     │ 24.0    │\n",
      "│ 201 │ male   │ 28.0     │ 28.0    │\n",
      "│ 202 │ male   │ \u001b[90mmissing\u001b[39m  │ 30.7266 │\n",
      "│ 203 │ male   │ 34.0     │ 34.0    │\n",
      "│ 204 │ male   │ 45.5     │ 45.5    │\n"
     ]
    },
    {
     "name": "stdout",
     "output_type": "stream",
     "text": [
      "│ 205 │ male   │ 18.0     │ 18.0    │\n",
      "│ 206 │ female │ 2.0      │ 2.0     │\n",
      "│ 207 │ male   │ 32.0     │ 32.0    │\n",
      "│ 208 │ male   │ 26.0     │ 26.0    │\n",
      "│ 209 │ female │ 16.0     │ 16.0    │\n",
      "│ 210 │ male   │ 40.0     │ 40.0    │\n",
      "│ 211 │ male   │ 24.0     │ 24.0    │\n",
      "│ 212 │ female │ 35.0     │ 35.0    │\n",
      "│ 213 │ male   │ 22.0     │ 22.0    │\n",
      "│ 214 │ male   │ 30.0     │ 30.0    │\n",
      "│ 215 │ male   │ \u001b[90mmissing\u001b[39m  │ 30.7266 │\n",
      "│ 216 │ female │ 31.0     │ 31.0    │\n",
      "│ 217 │ female │ 27.0     │ 27.0    │\n",
      "│ 218 │ male   │ 42.0     │ 42.0    │\n",
      "│ 219 │ female │ 32.0     │ 32.0    │\n",
      "│ 220 │ male   │ 30.0     │ 30.0    │\n",
      "│ 221 │ male   │ 16.0     │ 16.0    │\n",
      "│ 222 │ male   │ 27.0     │ 27.0    │\n",
      "│ 223 │ male   │ 51.0     │ 51.0    │\n",
      "│ 224 │ male   │ \u001b[90mmissing\u001b[39m  │ 30.7266 │\n",
      "│ 225 │ male   │ 38.0     │ 38.0    │\n",
      "│ 226 │ male   │ 22.0     │ 22.0    │\n",
      "│ 227 │ male   │ 19.0     │ 19.0    │\n",
      "│ 228 │ male   │ 20.5     │ 20.5    │\n",
      "│ 229 │ male   │ 18.0     │ 18.0    │\n",
      "│ 230 │ female │ \u001b[90mmissing\u001b[39m  │ 27.9157 │\n",
      "│ 231 │ female │ 35.0     │ 35.0    │\n",
      "│ 232 │ male   │ 29.0     │ 29.0    │\n",
      "│ 233 │ male   │ 59.0     │ 59.0    │\n",
      "│ 234 │ female │ 5.0      │ 5.0     │\n",
      "│ 235 │ male   │ 24.0     │ 24.0    │\n",
      "│ 236 │ female │ \u001b[90mmissing\u001b[39m  │ 27.9157 │\n",
      "│ 237 │ male   │ 44.0     │ 44.0    │\n",
      "│ 238 │ female │ 8.0      │ 8.0     │\n",
      "│ 239 │ male   │ 19.0     │ 19.0    │\n",
      "│ 240 │ male   │ 33.0     │ 33.0    │\n",
      "│ 241 │ female │ \u001b[90mmissing\u001b[39m  │ 27.9157 │\n",
      "│ 242 │ female │ \u001b[90mmissing\u001b[39m  │ 27.9157 │\n",
      "│ 243 │ male   │ 29.0     │ 29.0    │\n",
      "│ 244 │ male   │ 22.0     │ 22.0    │\n",
      "│ 245 │ male   │ 30.0     │ 30.0    │\n",
      "│ 246 │ male   │ 44.0     │ 44.0    │\n",
      "│ 247 │ female │ 25.0     │ 25.0    │\n",
      "│ 248 │ female │ 24.0     │ 24.0    │\n",
      "│ 249 │ male   │ 37.0     │ 37.0    │\n",
      "│ 250 │ male   │ 54.0     │ 54.0    │\n",
      "│ 251 │ male   │ \u001b[90mmissing\u001b[39m  │ 30.7266 │\n",
      "│ 252 │ female │ 29.0     │ 29.0    │\n",
      "│ 253 │ male   │ 62.0     │ 62.0    │\n",
      "│ 254 │ male   │ 30.0     │ 30.0    │\n",
      "│ 255 │ female │ 41.0     │ 41.0    │\n",
      "│ 256 │ female │ 29.0     │ 29.0    │\n",
      "│ 257 │ female │ \u001b[90mmissing\u001b[39m  │ 27.9157 │\n",
      "│ 258 │ female │ 30.0     │ 30.0    │\n",
      "│ 259 │ female │ 35.0     │ 35.0    │\n",
      "│ 260 │ female │ 50.0     │ 50.0    │\n",
      "│ 261 │ male   │ \u001b[90mmissing\u001b[39m  │ 30.7266 │\n",
      "│ 262 │ male   │ 3.0      │ 3.0     │\n",
      "│ 263 │ male   │ 52.0     │ 52.0    │\n",
      "│ 264 │ male   │ 40.0     │ 40.0    │\n",
      "│ 265 │ female │ \u001b[90mmissing\u001b[39m  │ 27.9157 │\n",
      "│ 266 │ male   │ 36.0     │ 36.0    │\n",
      "│ 267 │ male   │ 16.0     │ 16.0    │\n",
      "│ 268 │ male   │ 25.0     │ 25.0    │\n",
      "│ 269 │ female │ 58.0     │ 58.0    │\n",
      "│ 270 │ female │ 35.0     │ 35.0    │\n",
      "│ 271 │ male   │ \u001b[90mmissing\u001b[39m  │ 30.7266 │\n",
      "│ 272 │ male   │ 25.0     │ 25.0    │\n",
      "│ 273 │ female │ 41.0     │ 41.0    │\n",
      "│ 274 │ male   │ 37.0     │ 37.0    │\n",
      "│ 275 │ female │ \u001b[90mmissing\u001b[39m  │ 27.9157 │\n",
      "│ 276 │ female │ 63.0     │ 63.0    │\n",
      "│ 277 │ female │ 45.0     │ 45.0    │\n",
      "│ 278 │ male   │ \u001b[90mmissing\u001b[39m  │ 30.7266 │\n",
      "│ 279 │ male   │ 7.0      │ 7.0     │\n",
      "│ 280 │ female │ 35.0     │ 35.0    │\n",
      "│ 281 │ male   │ 65.0     │ 65.0    │\n",
      "│ 282 │ male   │ 28.0     │ 28.0    │\n",
      "│ 283 │ male   │ 16.0     │ 16.0    │\n",
      "│ 284 │ male   │ 19.0     │ 19.0    │\n",
      "│ 285 │ male   │ \u001b[90mmissing\u001b[39m  │ 30.7266 │\n",
      "│ 286 │ male   │ 33.0     │ 33.0    │\n",
      "│ 287 │ male   │ 30.0     │ 30.0    │\n",
      "│ 288 │ male   │ 22.0     │ 22.0    │\n",
      "│ 289 │ male   │ 42.0     │ 42.0    │\n",
      "│ 290 │ female │ 22.0     │ 22.0    │\n",
      "│ 291 │ female │ 26.0     │ 26.0    │\n",
      "│ 292 │ female │ 19.0     │ 19.0    │\n",
      "│ 293 │ male   │ 36.0     │ 36.0    │\n",
      "│ 294 │ female │ 24.0     │ 24.0    │\n",
      "│ 295 │ male   │ 24.0     │ 24.0    │\n",
      "│ 296 │ male   │ \u001b[90mmissing\u001b[39m  │ 30.7266 │\n",
      "│ 297 │ male   │ 23.5     │ 23.5    │\n",
      "│ 298 │ female │ 2.0      │ 2.0     │\n",
      "│ 299 │ male   │ \u001b[90mmissing\u001b[39m  │ 30.7266 │\n",
      "│ 300 │ female │ 50.0     │ 50.0    │\n",
      "│ 301 │ female │ \u001b[90mmissing\u001b[39m  │ 27.9157 │\n",
      "│ 302 │ male   │ \u001b[90mmissing\u001b[39m  │ 30.7266 │\n",
      "│ 303 │ male   │ 19.0     │ 19.0    │\n",
      "│ 304 │ female │ \u001b[90mmissing\u001b[39m  │ 27.9157 │\n",
      "│ 305 │ male   │ \u001b[90mmissing\u001b[39m  │ 30.7266 │\n",
      "│ 306 │ male   │ 0.92     │ 0.92    │\n",
      "│ 307 │ female │ \u001b[90mmissing\u001b[39m  │ 27.9157 │\n",
      "│ 308 │ female │ 17.0     │ 17.0    │\n",
      "│ 309 │ male   │ 30.0     │ 30.0    │\n",
      "│ 310 │ female │ 30.0     │ 30.0    │\n",
      "│ 311 │ female │ 24.0     │ 24.0    │\n",
      "│ 312 │ female │ 18.0     │ 18.0    │\n",
      "│ 313 │ female │ 26.0     │ 26.0    │\n",
      "│ 314 │ male   │ 28.0     │ 28.0    │\n",
      "│ 315 │ male   │ 43.0     │ 43.0    │\n",
      "│ 316 │ female │ 26.0     │ 26.0    │\n",
      "│ 317 │ female │ 24.0     │ 24.0    │\n",
      "│ 318 │ male   │ 54.0     │ 54.0    │\n",
      "│ 319"
     ]
    }
   ],
   "source": [
    "show(df[:, [:Sex, :Age, :new_Age]], allrows=true)"
   ]
  },
  {
   "cell_type": "code",
   "execution_count": null,
   "metadata": {},
   "outputs": [],
   "source": []
  }
 ],
 "metadata": {
  "colab": {
   "name": "julia_020_hw.ipynb",
   "provenance": []
  },
  "kernelspec": {
   "display_name": "Julia 1.3.1",
   "language": "julia",
   "name": "julia-1.3"
  },
  "language_info": {
   "file_extension": ".jl",
   "mimetype": "application/julia",
   "name": "julia",
   "version": "1.3.1"
  }
 },
 "nbformat": 4,
 "nbformat_minor": 1
}

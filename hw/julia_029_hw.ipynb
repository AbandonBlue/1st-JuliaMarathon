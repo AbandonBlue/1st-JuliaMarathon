{
 "cells": [
  {
   "cell_type": "markdown",
   "metadata": {},
   "source": [
    "# Julia 機器學習：LIBSVM 支撐向量機\n",
    "\n",
    "## 作業 029：\n",
    "\n",
    "請使用 SVM 來建立一個預測模型，來對手寫數字辨識資料集，建立一個分類模型，預測數字為何。\n",
    "\n",
    "本作業需要使用到的套件有 MLDatasets，請在執行以下範例前先安裝。\n",
    "\n",
    "```\n",
    "] add MLDatasets\n",
    "```"
   ]
  },
  {
   "cell_type": "code",
   "execution_count": 3,
   "metadata": {
    "ExecuteTime": {
     "end_time": "2020-05-08T16:07:37.204000+08:00",
     "start_time": "2020-05-08T08:07:05.898Z"
    }
   },
   "outputs": [
    {
     "name": "stderr",
     "output_type": "stream",
     "text": [
      "┌ Info: Precompiling MLDatasets [eb30cadb-4394-5ae3-aed4-317e484a6458]\n",
      "└ @ Base loading.jl:1273\n"
     ]
    }
   ],
   "source": [
    "using LIBSVM, MLDatasets, Statistics"
   ]
  },
  {
   "cell_type": "markdown",
   "metadata": {},
   "source": [
    "## 讀取資料"
   ]
  },
  {
   "cell_type": "markdown",
   "metadata": {},
   "source": [
    "呼叫 MNIST 資料集的過程中，會先去檢查以前是否有下載過，如果是第一次下載，過程中會詢問是否下載資料集，請回答 `y`。"
   ]
  },
  {
   "cell_type": "code",
   "execution_count": 4,
   "metadata": {
    "ExecuteTime": {
     "end_time": "2020-05-08T16:07:53.480000+08:00",
     "start_time": "2020-05-08T08:07:08.864Z"
    }
   },
   "outputs": [
    {
     "name": "stdout",
     "output_type": "stream",
     "text": [
      "This program has requested access to the data dependency MNIST.\n",
      "which is not currently installed. It can be installed automatically, and you will not see this message again.\n",
      "\n",
      "Dataset: THE MNIST DATABASE of handwritten digits\n",
      "Authors: Yann LeCun, Corinna Cortes, Christopher J.C. Burges\n",
      "Website: http://yann.lecun.com/exdb/mnist/\n",
      "\n",
      "[LeCun et al., 1998a]\n",
      "    Y. LeCun, L. Bottou, Y. Bengio, and P. Haffner.\n",
      "    \"Gradient-based learning applied to document recognition.\"\n",
      "    Proceedings of the IEEE, 86(11):2278-2324, November 1998\n",
      "\n",
      "The files are available for download at the offical\n",
      "website linked above. Note that using the data\n",
      "responsibly and respecting copyright remains your\n",
      "responsibility. The authors of MNIST aren't really\n",
      "explicit about any terms of use, so please read the\n",
      "website to make sure you want to download the\n",
      "dataset.\n",
      "\n",
      "\n",
      "\n",
      "Do you want to download the dataset from [\"http://yann.lecun.com/exdb/mnist/train-images-idx3-ubyte.gz\", \"http://yann.lecun.com/exdb/mnist/train-labels-idx1-ubyte.gz\", \"http://yann.lecun.com/exdb/mnist/t10k-images-idx3-ubyte.gz\", \"http://yann.lecun.com/exdb/mnist/t10k-labels-idx1-ubyte.gz\"] to \"C:\\Users\\aband\\.julia\\datadeps\\MNIST\"?\n",
      "[y/n]\n",
      "stdin> y\n"
     ]
    },
    {
     "data": {
      "text/plain": [
       "(FixedPointNumbers.Normed{UInt8,8}[0.0N0f8 0.0N0f8 … 0.0N0f8 0.0N0f8; 0.0N0f8 0.0N0f8 … 0.0N0f8 0.0N0f8; … ; 0.0N0f8 0.0N0f8 … 0.0N0f8 0.0N0f8; 0.0N0f8 0.0N0f8 … 0.0N0f8 0.0N0f8]\n",
       "\n",
       "FixedPointNumbers.Normed{UInt8,8}[0.0N0f8 0.0N0f8 … 0.0N0f8 0.0N0f8; 0.0N0f8 0.0N0f8 … 0.0N0f8 0.0N0f8; … ; 0.0N0f8 0.0N0f8 … 0.0N0f8 0.0N0f8; 0.0N0f8 0.0N0f8 … 0.0N0f8 0.0N0f8]\n",
       "\n",
       "FixedPointNumbers.Normed{UInt8,8}[0.0N0f8 0.0N0f8 … 0.0N0f8 0.0N0f8; 0.0N0f8 0.0N0f8 … 0.0N0f8 0.0N0f8; … ; 0.0N0f8 0.0N0f8 … 0.0N0f8 0.0N0f8; 0.0N0f8 0.0N0f8 … 0.0N0f8 0.0N0f8]\n",
       "\n",
       "...\n",
       "\n",
       "FixedPointNumbers.Normed{UInt8,8}[0.0N0f8 0.0N0f8 … 0.0N0f8 0.0N0f8; 0.0N0f8 0.0N0f8 … 0.0N0f8 0.0N0f8; … ; 0.0N0f8 0.0N0f8 … 0.0N0f8 0.0N0f8; 0.0N0f8 0.0N0f8 … 0.0N0f8 0.0N0f8]\n",
       "\n",
       "FixedPointNumbers.Normed{UInt8,8}[0.0N0f8 0.0N0f8 … 0.0N0f8 0.0N0f8; 0.0N0f8 0.0N0f8 … 0.0N0f8 0.0N0f8; … ; 0.0N0f8 0.0N0f8 … 0.0N0f8 0.0N0f8; 0.0N0f8 0.0N0f8 … 0.0N0f8 0.0N0f8]\n",
       "\n",
       "FixedPointNumbers.Normed{UInt8,8}[0.0N0f8 0.0N0f8 … 0.0N0f8 0.0N0f8; 0.0N0f8 0.0N0f8 … 0.0N0f8 0.0N0f8; … ; 0.0N0f8 0.0N0f8 … 0.0N0f8 0.0N0f8; 0.0N0f8 0.0N0f8 … 0.0N0f8 0.0N0f8], [7, 2, 1, 0, 4, 1, 4, 9, 5, 9  …  2, 3, 9, 0, 1, 2, 2, 0, 8, 9])"
      ]
     },
     "execution_count": 4,
     "metadata": {},
     "output_type": "execute_result"
    }
   ],
   "source": [
    "train_X, train_y = MNIST.traindata(1:10000)\n",
    "test_X,  test_y  = MNIST.testdata(1:1000)"
   ]
  },
  {
   "cell_type": "code",
   "execution_count": 6,
   "metadata": {
    "ExecuteTime": {
     "end_time": "2020-05-08T16:08:04.791000+08:00",
     "start_time": "2020-05-08T08:08:04.514Z"
    }
   },
   "outputs": [
    {
     "name": "stdout",
     "output_type": "stream",
     "text": [
      "typeof(train_X) = Base.ReinterpretArray{FixedPointNumbers.Normed{UInt8,8},3,UInt8,Array{UInt8,3}}\n"
     ]
    },
    {
     "data": {
      "text/plain": [
       "Base.ReinterpretArray{FixedPointNumbers.Normed{UInt8,8},3,UInt8,Array{UInt8,3}}"
      ]
     },
     "execution_count": 6,
     "metadata": {},
     "output_type": "execute_result"
    }
   ],
   "source": [
    "@show typeof(train_X)"
   ]
  },
  {
   "cell_type": "code",
   "execution_count": 13,
   "metadata": {
    "ExecuteTime": {
     "end_time": "2020-05-08T16:14:08.641000+08:00",
     "start_time": "2020-05-08T08:14:08.262Z"
    }
   },
   "outputs": [
    {
     "name": "stdout",
     "output_type": "stream",
     "text": [
      "size(train_X) = (28, 28, 10000)\n",
      "size(test_X) = (28, 28, 1000)\n",
      "size(train_y) = (10000,)\n",
      "size(test_y) = (1000,)\n"
     ]
    },
    {
     "data": {
      "text/plain": [
       "(1000,)"
      ]
     },
     "execution_count": 13,
     "metadata": {},
     "output_type": "execute_result"
    }
   ],
   "source": [
    "@show size(train_X)\n",
    "@show size(test_X)\n",
    "\n",
    "@show size(train_y)\n",
    "@show size(test_y)"
   ]
  },
  {
   "cell_type": "markdown",
   "metadata": {},
   "source": [
    "## 資料轉換"
   ]
  },
  {
   "cell_type": "code",
   "execution_count": 14,
   "metadata": {
    "ExecuteTime": {
     "end_time": "2020-05-08T16:14:18.538000+08:00",
     "start_time": "2020-05-08T08:14:17.797Z"
    }
   },
   "outputs": [
    {
     "data": {
      "text/plain": [
       "1000×784 Array{N0f8,2} with eltype FixedPointNumbers.Normed{UInt8,8}:\n",
       " 0.0    0.0  0.0    0.0    0.0    0.0    …  0.0    0.0    0.0    0.0    0.0  \n",
       " 0.0    0.0  0.671  0.0    0.0    0.0       0.0    0.0    0.0    0.0    0.502\n",
       " 0.0    0.0  0.996  0.0    0.0    0.408     0.0    0.0    0.0    0.0    0.988\n",
       " 0.0    0.0  0.318  0.0    0.0    0.996     0.0    0.0    0.0    0.0    0.988\n",
       " 0.0    0.0  0.0    0.0    0.0    0.62      0.173  0.0    0.0    0.992  0.988\n",
       " 0.0    0.0  0.0    0.0    0.0    0.0    …  0.898  0.0    0.0    0.984  0.992\n",
       " 0.0    0.0  0.0    0.282  0.0    0.0       0.992  0.0    0.0    0.984  0.988\n",
       " 0.0    0.0  0.0    0.682  0.0    0.0       0.494  0.0    0.0    0.122  0.988\n",
       " 0.0    0.0  0.0    0.984  0.0    0.0       0.0    0.0    0.0    0.0    0.988\n",
       " 0.0    0.0  0.0    0.678  0.0    0.0       0.0    0.0    0.0    0.0    0.992\n",
       " 0.0    0.0  0.0    0.278  0.0    0.0    …  0.0    0.0    0.0    0.0    0.988\n",
       " 0.0    0.0  0.0    0.282  0.0    0.0       0.0    0.0    0.0    0.0    0.988\n",
       " 0.0    0.0  0.0    0.118  0.0    0.0       0.0    0.0    0.0    0.0    0.988\n",
       " ⋮                                ⋮      ⋱         ⋮                         \n",
       " 0.984  0.0  0.0    0.0    0.0    0.0       0.0    0.996  0.0    0.0    0.0  \n",
       " 0.824  0.0  0.0    0.0    0.0    0.0       0.0    0.996  0.0    0.0    0.0  \n",
       " 0.098  0.0  0.0    0.0    0.639  0.0    …  0.0    0.996  0.031  0.0    0.0  \n",
       " 0.0    0.0  0.0    0.0    1.0    0.0       0.0    0.824  0.62   0.0    0.0  \n",
       " 0.0    0.0  0.0    0.0    0.8    0.0       0.0    0.725  0.984  0.0    0.0  \n",
       " 0.0    0.0  0.0    0.0    0.043  0.0       0.0    0.686  0.984  0.0    0.0  \n",
       " 0.478  0.0  0.0    0.0    0.0    0.0       0.0    0.302  0.992  0.0    0.0  \n",
       " 0.973  0.0  0.0    0.0    0.0    0.0    …  0.0    0.059  0.722  0.0    0.0  \n",
       " 0.992  0.0  0.0    0.0    0.0    0.0       0.0    0.0    0.122  0.0    0.0  \n",
       " 0.255  0.0  0.0    0.0    0.0    0.0       0.0    0.0    0.122  0.0    0.0  \n",
       " 0.0    0.0  0.0    0.0    0.0    0.0       0.0    0.0    0.122  0.0    0.0  \n",
       " 0.0    0.0  0.0    0.0    0.0    0.0       0.0    0.0    0.0    0.0    0.0  "
      ]
     },
     "execution_count": 14,
     "metadata": {},
     "output_type": "execute_result"
    }
   ],
   "source": [
    "train_X = Matrix(reshape(train_X, (10000, 28*28)))\n",
    "test_X = Matrix(reshape(test_X, (1000, 28*28)))"
   ]
  },
  {
   "cell_type": "code",
   "execution_count": 10,
   "metadata": {
    "ExecuteTime": {
     "end_time": "2020-05-08T16:10:57.192000+08:00",
     "start_time": "2020-05-08T08:10:56.586Z"
    }
   },
   "outputs": [
    {
     "data": {
      "text/plain": [
       "1000-element Array{Int64,1}:\n",
       " 7\n",
       " 2\n",
       " 1\n",
       " 0\n",
       " 4\n",
       " 1\n",
       " 4\n",
       " 9\n",
       " 5\n",
       " 9\n",
       " 0\n",
       " 6\n",
       " 9\n",
       " ⋮\n",
       " 1\n",
       " 6\n",
       " 2\n",
       " 3\n",
       " 9\n",
       " 0\n",
       " 1\n",
       " 2\n",
       " 2\n",
       " 0\n",
       " 8\n",
       " 9"
      ]
     },
     "execution_count": 10,
     "metadata": {},
     "output_type": "execute_result"
    }
   ],
   "source": [
    "train_y = Vector(train_y)\n",
    "test_y = Vector(test_y)"
   ]
  },
  {
   "cell_type": "markdown",
   "metadata": {},
   "source": [
    "## 預測"
   ]
  },
  {
   "cell_type": "code",
   "execution_count": 16,
   "metadata": {
    "ExecuteTime": {
     "end_time": "2020-05-08T16:19:34.437000+08:00",
     "start_time": "2020-05-08T08:15:30.141Z"
    }
   },
   "outputs": [
    {
     "data": {
      "text/plain": [
       "SVC(LIBSVM.Kernel.RadialBasis, 0.0012755102040816326, nothing, 1.0, 3, 0.0, 0.001, true, false, false, LIBSVM.SVM{Int64}(SVC, LIBSVM.Kernel.RadialBasis, nothing, 784, 10, [5, 0, 4, 1, 9, 2, 3, 6, 7, 8], Int32[1, 2, 3, 4, 5, 6, 7, 8, 9, 10], Float64[], Int32[], LIBSVM.SupportVectors{Int64,FixedPointNumbers.Normed{UInt8,8}}(9999, Int32[863, 1001, 980, 1126, 978, 991, 1032, 1014, 1070, 944], [5, 5, 5, 5, 5, 5, 5, 5, 5, 5  …  8, 8, 8, 8, 8, 8, 8, 8, 8, 8], FixedPointNumbers.Normed{UInt8,8}[0.0N0f8 0.0N0f8 … 0.0N0f8 0.0N0f8; 0.0N0f8 0.498N0f8 … 0.671N0f8 0.0N0f8; … ; 0.816N0f8 0.0N0f8 … 0.0N0f8 0.0N0f8; 0.0N0f8 0.0N0f8 … 0.0N0f8 0.0N0f8], Int32[1, 12, 36, 48, 66, 101, 133, 139, 146, 174  …  9936, 9937, 9938, 9945, 9949, 9953, 9957, 9971, 9983, 9997], LIBSVM.SVMNode[LIBSVM.SVMNode(1, 0.0), LIBSVM.SVMNode(1, 0.0), LIBSVM.SVMNode(1, 0.0), LIBSVM.SVMNode(1, 0.0), LIBSVM.SVMNode(1, 0.0), LIBSVM.SVMNode(1, 0.0), LIBSVM.SVMNode(1, 0.0), LIBSVM.SVMNode(1, 0.0), LIBSVM.SVMNode(1, 0.0), LIBSVM.SVMNode(1, 0.0)  …  LIBSVM.SVMNode(1, 0.0), LIBSVM.SVMNode(1, 0.0), LIBSVM.SVMNode(1, 0.0), LIBSVM.SVMNode(1, 0.0), LIBSVM.SVMNode(1, 0.09803921568627451), LIBSVM.SVMNode(1, 0.0), LIBSVM.SVMNode(1, 0.0), LIBSVM.SVMNode(1, 0.0), LIBSVM.SVMNode(1, 0.0), LIBSVM.SVMNode(1, 0.0)]), 0.0, [1.0 1.0 … 1.0 1.0; 1.0 1.0 … 1.0 1.0; … ; -1.0 -1.0 … -1.0 -1.0; -1.0 -1.0 … -1.0 -1.0], Float64[], Float64[], [0.729957569626949, 0.5427603926060808, 0.7269548044112057, 0.6240199500590786, 0.7025243627100208, 0.7741079904111711, 0.7361871969903535, 0.9434252568834579, 0.3412484903595414, -0.11687147060422577  …  0.5667590200731503, 0.42397701265574017, 0.9339044591839087, -0.6201327341169056, -0.098541787129663, 0.7157799862445265, -0.8665675482936261, 0.688734570439154, -0.8279887581905173, -1.127762008070003], 3, 0.0012755102040816326, 200.0, 0.001, 1.0, 0.5, 0.1, true, false))"
      ]
     },
     "execution_count": 16,
     "metadata": {},
     "output_type": "execute_result"
    }
   ],
   "source": [
    "model = LIBSVM.fit!(SVC(), train_X, train_y)"
   ]
  },
  {
   "cell_type": "code",
   "execution_count": 25,
   "metadata": {
    "ExecuteTime": {
     "end_time": "2020-05-08T16:25:05.494000+08:00",
     "start_time": "2020-05-08T08:25:05.441Z"
    }
   },
   "outputs": [
    {
     "data": {
      "text/plain": [
       "784-element Array{N0f8,1} with eltype FixedPointNumbers.Normed{UInt8,8}:\n",
       " 0.0N0f8  \n",
       " 0.0N0f8  \n",
       " 0.0N0f8  \n",
       " 0.0N0f8  \n",
       " 0.0N0f8  \n",
       " 0.0N0f8  \n",
       " 0.0N0f8  \n",
       " 0.0N0f8  \n",
       " 0.329N0f8\n",
       " 0.588N0f8\n",
       " 0.0N0f8  \n",
       " 0.0N0f8  \n",
       " 0.0N0f8  \n",
       " ⋮        \n",
       " 0.0N0f8  \n",
       " 0.0N0f8  \n",
       " 0.0N0f8  \n",
       " 0.0N0f8  \n",
       " 0.0N0f8  \n",
       " 0.0N0f8  \n",
       " 0.0N0f8  \n",
       " 0.0N0f8  \n",
       " 0.0N0f8  \n",
       " 0.0N0f8  \n",
       " 0.0N0f8  \n",
       " 0.0N0f8  "
      ]
     },
     "execution_count": 25,
     "metadata": {},
     "output_type": "execute_result"
    }
   ],
   "source": [
    "test_X[1, :]"
   ]
  },
  {
   "cell_type": "code",
   "execution_count": 27,
   "metadata": {
    "ExecuteTime": {
     "end_time": "2020-05-08T16:25:31.913000+08:00",
     "start_time": "2020-05-08T08:25:31.889Z"
    }
   },
   "outputs": [
    {
     "ename": "ErrorException",
     "evalue": "Model has 784 but 1 provided",
     "output_type": "error",
     "traceback": [
      "Model has 784 but 1 provided",
      "",
      "Stacktrace:",
      " [1] error(::String) at .\\error.jl:33",
      " [2] #svmpredict#4(::Int64, ::typeof(svmpredict), ::LIBSVM.SVM{Int64}, ::LinearAlgebra.Adjoint{FixedPointNumbers.Normed{UInt8,8},Array{FixedPointNumbers.Normed{UInt8,8},1}}) at C:\\Users\\aband\\.julia\\packages\\LIBSVM\\5Z99T\\src\\LIBSVM.jl:407",
      " [3] svmpredict(::LIBSVM.SVM{Int64}, ::LinearAlgebra.Adjoint{FixedPointNumbers.Normed{UInt8,8},Array{FixedPointNumbers.Normed{UInt8,8},1}}) at C:\\Users\\aband\\.julia\\packages\\LIBSVM\\5Z99T\\src\\LIBSVM.jl:402",
      " [4] predict(::SVC, ::Array{FixedPointNumbers.Normed{UInt8,8},1}) at C:\\Users\\aband\\.julia\\packages\\LIBSVM\\5Z99T\\src\\ScikitLearnAPI.jl:7",
      " [5] top-level scope at .\\In[27]:3"
     ]
    }
   ],
   "source": [
    "ŷ = String[]\n",
    "\n",
    "for i = 1:1000\n",
    "    y_ = LIBSVM.predict(model, test_X[i, :])\n",
    "    append!(ŷ, y_)\n",
    "end"
   ]
  },
  {
   "cell_type": "markdown",
   "metadata": {},
   "source": [
    "## 評估"
   ]
  },
  {
   "cell_type": "code",
   "execution_count": null,
   "metadata": {},
   "outputs": [],
   "source": []
  }
 ],
 "metadata": {
  "kernelspec": {
   "display_name": "Julia 1.3.1",
   "language": "julia",
   "name": "julia-1.3"
  },
  "language_info": {
   "file_extension": ".jl",
   "mimetype": "application/julia",
   "name": "julia",
   "version": "1.3.1"
  }
 },
 "nbformat": 4,
 "nbformat_minor": 4
}
